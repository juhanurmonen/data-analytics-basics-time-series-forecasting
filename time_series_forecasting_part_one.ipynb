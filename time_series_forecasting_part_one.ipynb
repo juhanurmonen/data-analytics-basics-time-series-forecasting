{
 "cells": [
  {
   "cell_type": "markdown",
   "id": "49d1d586",
   "metadata": {},
   "source": [
    "# Time series forecasting, part one of three"
   ]
  },
  {
   "cell_type": "markdown",
   "id": "11cbe49a",
   "metadata": {},
   "source": [
    "The idea behind time series forecasting is that time series consisting of obseravtions that have already happened include information that help predicting observattions in the future. Forecasting method to be used depends on the form of systematic variation there exists in the time series. "
   ]
  },
  {
   "cell_type": "markdown",
   "id": "632b65d9",
   "metadata": {},
   "source": [
    "Models of exponential smoothing (simple, double and triple) are commonly used in business when forecasting demand. These models are rather simple to use, quickly calculated and easy to update if new observations become available."
   ]
  },
  {
   "cell_type": "markdown",
   "id": "51c93e19",
   "metadata": {},
   "source": [
    "When using exponential smoothing methods, there are three main alternatives:\n",
    "\n",
    "- **Simple exponential smoothing** for time series with no trend nor seasonal variation.\n",
    "- Double exponential smoothing, i.e., **Holt** method for time series with a trend but no seasonal variation.\n",
    "- Triple exponential smoothing, i.e., **Holt-Winter** method for time series with a trend and seasonal variation."
   ]
  },
  {
   "cell_type": "markdown",
   "id": "0d1743e5",
   "metadata": {},
   "source": [
    "## Simple exponential smoothing"
   ]
  },
  {
   "cell_type": "markdown",
   "id": "a916719f",
   "metadata": {},
   "source": [
    "In this note we consider simple exponential smoothing. It is applied when there is no noticeable trend nor seasonal variation in the time series. Note also that in such cases we do not have very ambitious aims in forecasting: only the next value is predicted. If farther than next time label is predicted, simple exponential smoothing gives the same predicted value for each these values."
   ]
  },
  {
   "cell_type": "markdown",
   "id": "1fad12f2",
   "metadata": {},
   "source": [
    "In simple exponential smoothing the forecasted value is calculated as\n",
    "\n",
    "$$ \\alpha \\cdot previous\\ observation + (1-\\alpha) \\cdot previous\\ forecast $$"
   ]
  },
  {
   "cell_type": "markdown",
   "id": "719e066b",
   "metadata": {},
   "source": [
    "So, the forecast is obtained as a weighted sum of the latest observation and the associated forecast. The weighting coefficient $\\alpha$ is a number between 0 and 1. It expresses how much weight the latest observation is given."
   ]
  },
  {
   "cell_type": "markdown",
   "id": "da0943be",
   "metadata": {},
   "source": [
    "- If $\\alpha$ equals to zero, the forecast equals to the previously forecasted value.\n",
    "- If $\\alpha$ equals to one, the forecast equals to the previous observation.\n",
    "- Bigger values of $\\alpha$ lead to forecasts which easily respond to changes in variation in the time series. In such cases latest observations possess bigger weught.\n",
    "- Smaller values of $\\alpha$ strongly smooth variation in the time series."
   ]
  },
  {
   "cell_type": "markdown",
   "id": "2f3991fc",
   "metadata": {},
   "source": [
    "The value of $\\alpha$ is usually chosen so that the mean of the squares of errors of predictions is as small as possible. "
   ]
  },
  {
   "cell_type": "markdown",
   "id": "93afa517",
   "metadata": {},
   "source": [
    "The formula for the forecast can also be written as\n",
    "$$previous\\ forecast + \\alpha \\cdot (previous\\ observation - previous\\ forecast)$$"
   ]
  },
  {
   "cell_type": "markdown",
   "id": "941e5522",
   "metadata": {},
   "source": [
    "From this formula we see that the forecast is remedied after each observation using the correction term $\\alpha \\cdot error\\ of\\ previous\\ forecast$. "
   ]
  },
  {
   "cell_type": "markdown",
   "id": "3ea2ffd5",
   "metadata": {},
   "source": [
    "## Using Python in exponential smoothing"
   ]
  },
  {
   "cell_type": "markdown",
   "id": "c63afef7",
   "metadata": {},
   "source": [
    "Functions for exponential smoothing can be found from the library called **statsmodel.tsa**. "
   ]
  },
  {
   "cell_type": "markdown",
   "id": "db4bbd7c",
   "metadata": {},
   "source": [
    "As it turns out, in this example simple exponential smoothing is not a good model as there is a noticeable trend and seasonal variation in the time series which the model ignores. "
   ]
  },
  {
   "cell_type": "code",
   "execution_count": 1,
   "id": "abe8eb32",
   "metadata": {},
   "outputs": [],
   "source": [
    "### Import the necessary libraries\n",
    "\n",
    "import pandas as pd\n",
    "import matplotlib.pyplot as plt\n",
    "\n",
    "from statsmodels.tsa.api import ExponentialSmoothing\n",
    "\n",
    "import warnings\n",
    "warnings.filterwarnings('ignore')\n",
    "\n",
    "### The following style is used. \n",
    "\n",
    "plt.style.use('seaborn-whitegrid')"
   ]
  },
  {
   "cell_type": "markdown",
   "id": "782331f9",
   "metadata": {},
   "source": [
    "### Studying the time series"
   ]
  },
  {
   "cell_type": "code",
   "execution_count": 2,
   "id": "1ca09995",
   "metadata": {},
   "outputs": [
    {
     "data": {
      "text/html": [
       "<div>\n",
       "<style scoped>\n",
       "    .dataframe tbody tr th:only-of-type {\n",
       "        vertical-align: middle;\n",
       "    }\n",
       "\n",
       "    .dataframe tbody tr th {\n",
       "        vertical-align: top;\n",
       "    }\n",
       "\n",
       "    .dataframe thead th {\n",
       "        text-align: right;\n",
       "    }\n",
       "</style>\n",
       "<table border=\"1\" class=\"dataframe\">\n",
       "  <thead>\n",
       "    <tr style=\"text-align: right;\">\n",
       "      <th></th>\n",
       "      <th>Quarter</th>\n",
       "      <th>Demand</th>\n",
       "    </tr>\n",
       "  </thead>\n",
       "  <tbody>\n",
       "    <tr>\n",
       "      <th>0</th>\n",
       "      <td>2013-12-31</td>\n",
       "      <td>500</td>\n",
       "    </tr>\n",
       "    <tr>\n",
       "      <th>1</th>\n",
       "      <td>2014-03-31</td>\n",
       "      <td>350</td>\n",
       "    </tr>\n",
       "    <tr>\n",
       "      <th>2</th>\n",
       "      <td>2014-06-30</td>\n",
       "      <td>250</td>\n",
       "    </tr>\n",
       "    <tr>\n",
       "      <th>3</th>\n",
       "      <td>2014-09-30</td>\n",
       "      <td>400</td>\n",
       "    </tr>\n",
       "    <tr>\n",
       "      <th>4</th>\n",
       "      <td>2014-12-31</td>\n",
       "      <td>450</td>\n",
       "    </tr>\n",
       "  </tbody>\n",
       "</table>\n",
       "</div>"
      ],
      "text/plain": [
       "     Quarter  Demand\n",
       "0 2013-12-31     500\n",
       "1 2014-03-31     350\n",
       "2 2014-06-30     250\n",
       "3 2014-09-30     400\n",
       "4 2014-12-31     450"
      ]
     },
     "execution_count": 2,
     "metadata": {},
     "output_type": "execute_result"
    }
   ],
   "source": [
    "### Open the data.\n",
    "\n",
    "df = pd.read_excel('http://myy.haaga-helia.fi/~menetelmat/Data-analytiikka/Teaching/time_series.xlsx')\n",
    "\n",
    "df.head()"
   ]
  },
  {
   "cell_type": "code",
   "execution_count": 3,
   "id": "8d7ef790",
   "metadata": {},
   "outputs": [
    {
     "data": {
      "text/html": [
       "<div>\n",
       "<style scoped>\n",
       "    .dataframe tbody tr th:only-of-type {\n",
       "        vertical-align: middle;\n",
       "    }\n",
       "\n",
       "    .dataframe tbody tr th {\n",
       "        vertical-align: top;\n",
       "    }\n",
       "\n",
       "    .dataframe thead th {\n",
       "        text-align: right;\n",
       "    }\n",
       "</style>\n",
       "<table border=\"1\" class=\"dataframe\">\n",
       "  <thead>\n",
       "    <tr style=\"text-align: right;\">\n",
       "      <th></th>\n",
       "      <th>Demand</th>\n",
       "    </tr>\n",
       "    <tr>\n",
       "      <th>Quarter</th>\n",
       "      <th></th>\n",
       "    </tr>\n",
       "  </thead>\n",
       "  <tbody>\n",
       "    <tr>\n",
       "      <th>2013-12-31</th>\n",
       "      <td>500</td>\n",
       "    </tr>\n",
       "    <tr>\n",
       "      <th>2014-03-31</th>\n",
       "      <td>350</td>\n",
       "    </tr>\n",
       "    <tr>\n",
       "      <th>2014-06-30</th>\n",
       "      <td>250</td>\n",
       "    </tr>\n",
       "    <tr>\n",
       "      <th>2014-09-30</th>\n",
       "      <td>400</td>\n",
       "    </tr>\n",
       "    <tr>\n",
       "      <th>2014-12-31</th>\n",
       "      <td>450</td>\n",
       "    </tr>\n",
       "  </tbody>\n",
       "</table>\n",
       "</div>"
      ],
      "text/plain": [
       "            Demand\n",
       "Quarter           \n",
       "2013-12-31     500\n",
       "2014-03-31     350\n",
       "2014-06-30     250\n",
       "2014-09-30     400\n",
       "2014-12-31     450"
      ]
     },
     "execution_count": 3,
     "metadata": {},
     "output_type": "execute_result"
    }
   ],
   "source": [
    "### Move time labels to be in the index.\n",
    "### The function to_datetime converts time related strings into time labels that Python understands.\n",
    "### The parameter format allows recognizing different representations as time labels.\n",
    "\n",
    "df.index = pd.to_datetime(df['Quarter'], format = \"%Y-%m-%d\")\n",
    "\n",
    "### Omit the obsolete column.\n",
    "\n",
    "df = df.drop('Quarter', axis = 1)\n",
    "df.head()"
   ]
  },
  {
   "cell_type": "code",
   "execution_count": 4,
   "id": "223085ad",
   "metadata": {},
   "outputs": [
    {
     "data": {
      "text/plain": [
       "<AxesSubplot:xlabel='Quarter'>"
      ]
     },
     "execution_count": 4,
     "metadata": {},
     "output_type": "execute_result"
    },
    {
     "data": {
      "image/png": "[encoded data removed]",
      "text/plain": [
       "<Figure size 432x288 with 1 Axes>"
      ]
     },
     "metadata": {},
     "output_type": "display_data"
    }
   ],
   "source": [
    "### Let's take a graphical view of the data.\n",
    "\n",
    "df.plot()"
   ]
  },
  {
   "cell_type": "markdown",
   "id": "6311b72a",
   "metadata": {},
   "source": [
    "### Fitting the model"
   ]
  },
  {
   "cell_type": "markdown",
   "id": "33d6965a",
   "metadata": {},
   "source": [
    "The model that we have decided to use is fitted to the data (**fit()**). As a result an object is achieved. This object, named as **model** below, contains various informations about the model."
   ]
  },
  {
   "cell_type": "markdown",
   "id": "426f55ca",
   "metadata": {},
   "source": [
    "In the following the value **'Q''** is used for the parameter **freq**. This is because time information consists of quarter annual last dates. More information about possible values of the parameter **freq** can be found at https://pandas.pydata.org/pandas-docs/stable/user_guide/timeseries.html#offset-aliases."
   ]
  },
  {
   "cell_type": "code",
   "execution_count": 5,
   "id": "804d1752",
   "metadata": {},
   "outputs": [],
   "source": [
    "### Fitting the exponential smoothing model into the object named model.\n",
    "\n",
    "model = ExponentialSmoothing(df['Demand'], freq = 'Q').fit()"
   ]
  },
  {
   "cell_type": "code",
   "execution_count": 6,
   "id": "08a0f961",
   "metadata": {},
   "outputs": [
    {
     "data": {
      "text/html": [
       "<div>\n",
       "<style scoped>\n",
       "    .dataframe tbody tr th:only-of-type {\n",
       "        vertical-align: middle;\n",
       "    }\n",
       "\n",
       "    .dataframe tbody tr th {\n",
       "        vertical-align: top;\n",
       "    }\n",
       "\n",
       "    .dataframe thead th {\n",
       "        text-align: right;\n",
       "    }\n",
       "</style>\n",
       "<table border=\"1\" class=\"dataframe\">\n",
       "  <thead>\n",
       "    <tr style=\"text-align: right;\">\n",
       "      <th></th>\n",
       "      <th>Demand</th>\n",
       "      <th>Forecast</th>\n",
       "    </tr>\n",
       "    <tr>\n",
       "      <th>Quarter</th>\n",
       "      <th></th>\n",
       "      <th></th>\n",
       "    </tr>\n",
       "  </thead>\n",
       "  <tbody>\n",
       "    <tr>\n",
       "      <th>2013-12-31</th>\n",
       "      <td>500</td>\n",
       "      <td>388.106006</td>\n",
       "    </tr>\n",
       "    <tr>\n",
       "      <th>2014-03-31</th>\n",
       "      <td>350</td>\n",
       "      <td>424.219757</td>\n",
       "    </tr>\n",
       "    <tr>\n",
       "      <th>2014-06-30</th>\n",
       "      <td>250</td>\n",
       "      <td>400.265354</td>\n",
       "    </tr>\n",
       "    <tr>\n",
       "      <th>2014-09-30</th>\n",
       "      <td>400</td>\n",
       "      <td>351.767258</td>\n",
       "    </tr>\n",
       "    <tr>\n",
       "      <th>2014-12-31</th>\n",
       "      <td>450</td>\n",
       "      <td>367.334361</td>\n",
       "    </tr>\n",
       "    <tr>\n",
       "      <th>2015-03-31</th>\n",
       "      <td>350</td>\n",
       "      <td>394.014670</td>\n",
       "    </tr>\n",
       "    <tr>\n",
       "      <th>2015-06-30</th>\n",
       "      <td>200</td>\n",
       "      <td>379.808949</td>\n",
       "    </tr>\n",
       "    <tr>\n",
       "      <th>2015-09-30</th>\n",
       "      <td>300</td>\n",
       "      <td>321.775667</td>\n",
       "    </tr>\n",
       "    <tr>\n",
       "      <th>2015-12-31</th>\n",
       "      <td>350</td>\n",
       "      <td>314.747578</td>\n",
       "    </tr>\n",
       "    <tr>\n",
       "      <th>2016-03-31</th>\n",
       "      <td>200</td>\n",
       "      <td>326.125286</td>\n",
       "    </tr>\n",
       "    <tr>\n",
       "      <th>2016-06-30</th>\n",
       "      <td>150</td>\n",
       "      <td>285.418390</td>\n",
       "    </tr>\n",
       "    <tr>\n",
       "      <th>2016-09-30</th>\n",
       "      <td>400</td>\n",
       "      <td>241.712147</td>\n",
       "    </tr>\n",
       "    <tr>\n",
       "      <th>2016-12-31</th>\n",
       "      <td>550</td>\n",
       "      <td>292.799502</td>\n",
       "    </tr>\n",
       "    <tr>\n",
       "      <th>2017-03-31</th>\n",
       "      <td>350</td>\n",
       "      <td>375.810881</td>\n",
       "    </tr>\n",
       "    <tr>\n",
       "      <th>2017-06-30</th>\n",
       "      <td>250</td>\n",
       "      <td>367.480427</td>\n",
       "    </tr>\n",
       "    <tr>\n",
       "      <th>2017-09-30</th>\n",
       "      <td>550</td>\n",
       "      <td>329.563657</td>\n",
       "    </tr>\n",
       "    <tr>\n",
       "      <th>2017-12-31</th>\n",
       "      <td>550</td>\n",
       "      <td>400.709417</td>\n",
       "    </tr>\n",
       "    <tr>\n",
       "      <th>2018-03-31</th>\n",
       "      <td>400</td>\n",
       "      <td>448.892905</td>\n",
       "    </tr>\n",
       "    <tr>\n",
       "      <th>2018-06-30</th>\n",
       "      <td>350</td>\n",
       "      <td>433.112736</td>\n",
       "    </tr>\n",
       "    <tr>\n",
       "      <th>2018-09-30</th>\n",
       "      <td>600</td>\n",
       "      <td>406.288126</td>\n",
       "    </tr>\n",
       "    <tr>\n",
       "      <th>2018-12-31</th>\n",
       "      <td>750</td>\n",
       "      <td>468.808572</td>\n",
       "    </tr>\n",
       "    <tr>\n",
       "      <th>2019-03-31</th>\n",
       "      <td>500</td>\n",
       "      <td>559.563017</td>\n",
       "    </tr>\n",
       "    <tr>\n",
       "      <th>2019-06-30</th>\n",
       "      <td>400</td>\n",
       "      <td>540.339072</td>\n",
       "    </tr>\n",
       "    <tr>\n",
       "      <th>2019-09-30</th>\n",
       "      <td>650</td>\n",
       "      <td>495.044681</td>\n",
       "    </tr>\n",
       "    <tr>\n",
       "      <th>2019-12-31</th>\n",
       "      <td>850</td>\n",
       "      <td>545.056461</td>\n",
       "    </tr>\n",
       "  </tbody>\n",
       "</table>\n",
       "</div>"
      ],
      "text/plain": [
       "            Demand    Forecast\n",
       "Quarter                       \n",
       "2013-12-31     500  388.106006\n",
       "2014-03-31     350  424.219757\n",
       "2014-06-30     250  400.265354\n",
       "2014-09-30     400  351.767258\n",
       "2014-12-31     450  367.334361\n",
       "2015-03-31     350  394.014670\n",
       "2015-06-30     200  379.808949\n",
       "2015-09-30     300  321.775667\n",
       "2015-12-31     350  314.747578\n",
       "2016-03-31     200  326.125286\n",
       "2016-06-30     150  285.418390\n",
       "2016-09-30     400  241.712147\n",
       "2016-12-31     550  292.799502\n",
       "2017-03-31     350  375.810881\n",
       "2017-06-30     250  367.480427\n",
       "2017-09-30     550  329.563657\n",
       "2017-12-31     550  400.709417\n",
       "2018-03-31     400  448.892905\n",
       "2018-06-30     350  433.112736\n",
       "2018-09-30     600  406.288126\n",
       "2018-12-31     750  468.808572\n",
       "2019-03-31     500  559.563017\n",
       "2019-06-30     400  540.339072\n",
       "2019-09-30     650  495.044681\n",
       "2019-12-31     850  545.056461"
      ]
     },
     "execution_count": 6,
     "metadata": {},
     "output_type": "execute_result"
    }
   ],
   "source": [
    "### The object called model gives us the simulated predictions according to the exponential smoothing model (fittedvalues).\n",
    "\n",
    "df['Forecast'] = model.fittedvalues\n",
    "\n",
    "df"
   ]
  },
  {
   "cell_type": "code",
   "execution_count": 7,
   "id": "36ed34cc",
   "metadata": {
    "scrolled": true
   },
   "outputs": [
    {
     "data": {
      "text/plain": [
       "<AxesSubplot:xlabel='Quarter'>"
      ]
     },
     "execution_count": 7,
     "metadata": {},
     "output_type": "execute_result"
    },
    {
     "data": {
      "image/png": "[encoded data removed]",
      "text/plain": [
       "<Figure size 432x288 with 1 Axes>"
      ]
     },
     "metadata": {},
     "output_type": "display_data"
    }
   ],
   "source": [
    "### Draw the original time series and the predictions by the exponential smoothing model in the same coordinate system.\n",
    "\n",
    "df.plot()"
   ]
  },
  {
   "cell_type": "code",
   "execution_count": 8,
   "id": "0caacbc3",
   "metadata": {},
   "outputs": [
    {
     "data": {
      "text/html": [
       "<div>\n",
       "<style scoped>\n",
       "    .dataframe tbody tr th:only-of-type {\n",
       "        vertical-align: middle;\n",
       "    }\n",
       "\n",
       "    .dataframe tbody tr th {\n",
       "        vertical-align: top;\n",
       "    }\n",
       "\n",
       "    .dataframe thead th {\n",
       "        text-align: right;\n",
       "    }\n",
       "</style>\n",
       "<table border=\"1\" class=\"dataframe\">\n",
       "  <thead>\n",
       "    <tr style=\"text-align: right;\">\n",
       "      <th></th>\n",
       "      <th>Demand</th>\n",
       "      <th>Forecast</th>\n",
       "      <th>Residual</th>\n",
       "    </tr>\n",
       "    <tr>\n",
       "      <th>Quarter</th>\n",
       "      <th></th>\n",
       "      <th></th>\n",
       "      <th></th>\n",
       "    </tr>\n",
       "  </thead>\n",
       "  <tbody>\n",
       "    <tr>\n",
       "      <th>2013-12-31</th>\n",
       "      <td>500</td>\n",
       "      <td>388.106006</td>\n",
       "      <td>111.893994</td>\n",
       "    </tr>\n",
       "    <tr>\n",
       "      <th>2014-03-31</th>\n",
       "      <td>350</td>\n",
       "      <td>424.219757</td>\n",
       "      <td>-74.219757</td>\n",
       "    </tr>\n",
       "    <tr>\n",
       "      <th>2014-06-30</th>\n",
       "      <td>250</td>\n",
       "      <td>400.265354</td>\n",
       "      <td>-150.265354</td>\n",
       "    </tr>\n",
       "    <tr>\n",
       "      <th>2014-09-30</th>\n",
       "      <td>400</td>\n",
       "      <td>351.767258</td>\n",
       "      <td>48.232742</td>\n",
       "    </tr>\n",
       "    <tr>\n",
       "      <th>2014-12-31</th>\n",
       "      <td>450</td>\n",
       "      <td>367.334361</td>\n",
       "      <td>82.665639</td>\n",
       "    </tr>\n",
       "    <tr>\n",
       "      <th>2015-03-31</th>\n",
       "      <td>350</td>\n",
       "      <td>394.014670</td>\n",
       "      <td>-44.014670</td>\n",
       "    </tr>\n",
       "    <tr>\n",
       "      <th>2015-06-30</th>\n",
       "      <td>200</td>\n",
       "      <td>379.808949</td>\n",
       "      <td>-179.808949</td>\n",
       "    </tr>\n",
       "    <tr>\n",
       "      <th>2015-09-30</th>\n",
       "      <td>300</td>\n",
       "      <td>321.775667</td>\n",
       "      <td>-21.775667</td>\n",
       "    </tr>\n",
       "    <tr>\n",
       "      <th>2015-12-31</th>\n",
       "      <td>350</td>\n",
       "      <td>314.747578</td>\n",
       "      <td>35.252422</td>\n",
       "    </tr>\n",
       "    <tr>\n",
       "      <th>2016-03-31</th>\n",
       "      <td>200</td>\n",
       "      <td>326.125286</td>\n",
       "      <td>-126.125286</td>\n",
       "    </tr>\n",
       "    <tr>\n",
       "      <th>2016-06-30</th>\n",
       "      <td>150</td>\n",
       "      <td>285.418390</td>\n",
       "      <td>-135.418390</td>\n",
       "    </tr>\n",
       "    <tr>\n",
       "      <th>2016-09-30</th>\n",
       "      <td>400</td>\n",
       "      <td>241.712147</td>\n",
       "      <td>158.287853</td>\n",
       "    </tr>\n",
       "    <tr>\n",
       "      <th>2016-12-31</th>\n",
       "      <td>550</td>\n",
       "      <td>292.799502</td>\n",
       "      <td>257.200498</td>\n",
       "    </tr>\n",
       "    <tr>\n",
       "      <th>2017-03-31</th>\n",
       "      <td>350</td>\n",
       "      <td>375.810881</td>\n",
       "      <td>-25.810881</td>\n",
       "    </tr>\n",
       "    <tr>\n",
       "      <th>2017-06-30</th>\n",
       "      <td>250</td>\n",
       "      <td>367.480427</td>\n",
       "      <td>-117.480427</td>\n",
       "    </tr>\n",
       "    <tr>\n",
       "      <th>2017-09-30</th>\n",
       "      <td>550</td>\n",
       "      <td>329.563657</td>\n",
       "      <td>220.436343</td>\n",
       "    </tr>\n",
       "    <tr>\n",
       "      <th>2017-12-31</th>\n",
       "      <td>550</td>\n",
       "      <td>400.709417</td>\n",
       "      <td>149.290583</td>\n",
       "    </tr>\n",
       "    <tr>\n",
       "      <th>2018-03-31</th>\n",
       "      <td>400</td>\n",
       "      <td>448.892905</td>\n",
       "      <td>-48.892905</td>\n",
       "    </tr>\n",
       "    <tr>\n",
       "      <th>2018-06-30</th>\n",
       "      <td>350</td>\n",
       "      <td>433.112736</td>\n",
       "      <td>-83.112736</td>\n",
       "    </tr>\n",
       "    <tr>\n",
       "      <th>2018-09-30</th>\n",
       "      <td>600</td>\n",
       "      <td>406.288126</td>\n",
       "      <td>193.711874</td>\n",
       "    </tr>\n",
       "    <tr>\n",
       "      <th>2018-12-31</th>\n",
       "      <td>750</td>\n",
       "      <td>468.808572</td>\n",
       "      <td>281.191428</td>\n",
       "    </tr>\n",
       "    <tr>\n",
       "      <th>2019-03-31</th>\n",
       "      <td>500</td>\n",
       "      <td>559.563017</td>\n",
       "      <td>-59.563017</td>\n",
       "    </tr>\n",
       "    <tr>\n",
       "      <th>2019-06-30</th>\n",
       "      <td>400</td>\n",
       "      <td>540.339072</td>\n",
       "      <td>-140.339072</td>\n",
       "    </tr>\n",
       "    <tr>\n",
       "      <th>2019-09-30</th>\n",
       "      <td>650</td>\n",
       "      <td>495.044681</td>\n",
       "      <td>154.955319</td>\n",
       "    </tr>\n",
       "    <tr>\n",
       "      <th>2019-12-31</th>\n",
       "      <td>850</td>\n",
       "      <td>545.056461</td>\n",
       "      <td>304.943539</td>\n",
       "    </tr>\n",
       "  </tbody>\n",
       "</table>\n",
       "</div>"
      ],
      "text/plain": [
       "            Demand    Forecast    Residual\n",
       "Quarter                                   \n",
       "2013-12-31     500  388.106006  111.893994\n",
       "2014-03-31     350  424.219757  -74.219757\n",
       "2014-06-30     250  400.265354 -150.265354\n",
       "2014-09-30     400  351.767258   48.232742\n",
       "2014-12-31     450  367.334361   82.665639\n",
       "2015-03-31     350  394.014670  -44.014670\n",
       "2015-06-30     200  379.808949 -179.808949\n",
       "2015-09-30     300  321.775667  -21.775667\n",
       "2015-12-31     350  314.747578   35.252422\n",
       "2016-03-31     200  326.125286 -126.125286\n",
       "2016-06-30     150  285.418390 -135.418390\n",
       "2016-09-30     400  241.712147  158.287853\n",
       "2016-12-31     550  292.799502  257.200498\n",
       "2017-03-31     350  375.810881  -25.810881\n",
       "2017-06-30     250  367.480427 -117.480427\n",
       "2017-09-30     550  329.563657  220.436343\n",
       "2017-12-31     550  400.709417  149.290583\n",
       "2018-03-31     400  448.892905  -48.892905\n",
       "2018-06-30     350  433.112736  -83.112736\n",
       "2018-09-30     600  406.288126  193.711874\n",
       "2018-12-31     750  468.808572  281.191428\n",
       "2019-03-31     500  559.563017  -59.563017\n",
       "2019-06-30     400  540.339072 -140.339072\n",
       "2019-09-30     650  495.044681  154.955319\n",
       "2019-12-31     850  545.056461  304.943539"
      ]
     },
     "execution_count": 8,
     "metadata": {},
     "output_type": "execute_result"
    }
   ],
   "source": [
    "### Errors of the prediction (residuals) are found in the the object named model.\n",
    "\n",
    "df['Residual'] = model.resid\n",
    "\n",
    "df"
   ]
  },
  {
   "cell_type": "markdown",
   "id": "ff029cad",
   "metadata": {},
   "source": [
    "## Studying the model"
   ]
  },
  {
   "cell_type": "markdown",
   "id": "555e7d82",
   "metadata": {},
   "source": [
    "How good an approximation is the model then? There are several ways to look at this question. Here we can use\n",
    "\n",
    "- line chart of time series of errors of forecast\n",
    "- scatter chart of forecasted and observed, realized values\n",
    "- the model related statistics which can be viewed using the function **summary()**."
   ]
  },
  {
   "cell_type": "markdown",
   "id": "b8599624",
   "metadata": {},
   "source": [
    "In particular, note the sum of squared errors **SSE**. The procedure behind the model is to minimize the SSE."
   ]
  },
  {
   "cell_type": "code",
   "execution_count": 15,
   "id": "029b9341",
   "metadata": {},
   "outputs": [
    {
     "data": {
      "text/plain": [
       "Text(0, 0.5, 'Error of prediction')"
      ]
     },
     "execution_count": 15,
     "metadata": {},
     "output_type": "execute_result"
    },
    {
     "data": {
      "image/png": "[encoded data removed]",
      "text/plain": [
       "<Figure size 432x288 with 1 Axes>"
      ]
     },
     "metadata": {},
     "output_type": "display_data"
    }
   ],
   "source": [
    "### Draw the errors of forecast as line chart.\n",
    "### Ideally time series of errors of prediction is random.\n",
    "\n",
    "df['Residual'].plot()\n",
    "plt.ylabel('Error of prediction')"
   ]
  },
  {
   "cell_type": "code",
   "execution_count": 10,
   "id": "e13249fe",
   "metadata": {
    "scrolled": true
   },
   "outputs": [
    {
     "data": {
      "text/plain": [
       "Text(0, 0.5, 'Realized demand')"
      ]
     },
     "execution_count": 10,
     "metadata": {},
     "output_type": "execute_result"
    },
    {
     "data": {
      "image/png": "[encoded data removed]",
      "text/plain": [
       "<Figure size 432x288 with 1 Axes>"
      ]
     },
     "metadata": {},
     "output_type": "display_data"
    }
   ],
   "source": [
    "### Draw the scatter chart of the predicted and realized demands.\n",
    "### The closer the dots follow a straight line from the lower left corner to the top right corner the better the prediction model is.\n",
    "\n",
    "plt.scatter(x = df['Forecast'], y = df['Demand'])\n",
    "\n",
    "plt.xlabel('Forecast')\n",
    "plt.ylabel('Realized demand')"
   ]
  },
  {
   "cell_type": "code",
   "execution_count": 11,
   "id": "3fe8bc5e",
   "metadata": {},
   "outputs": [
    {
     "data": {
      "text/html": [
       "<table class=\"simpletable\">\n",
       "<caption>ExponentialSmoothing Model Results</caption>\n",
       "<tr>\n",
       "  <th>Dep. Variable:</th>           <td>Demand</td>        <th>  No. Observations:  </th>        <td>25</td>       \n",
       "</tr>\n",
       "<tr>\n",
       "  <th>Model:</th>            <td>ExponentialSmoothing</td> <th>  SSE                </th>    <td>562690.236</td>   \n",
       "</tr>\n",
       "<tr>\n",
       "  <th>Optimized:</th>                <td>True</td>         <th>  AIC                </th>      <td>254.540</td>    \n",
       "</tr>\n",
       "<tr>\n",
       "  <th>Trend:</th>                    <td>None</td>         <th>  BIC                </th>      <td>256.978</td>    \n",
       "</tr>\n",
       "<tr>\n",
       "  <th>Seasonal:</th>                 <td>None</td>         <th>  AICC               </th>      <td>256.540</td>    \n",
       "</tr>\n",
       "<tr>\n",
       "  <th>Seasonal Periods:</th>         <td>None</td>         <th>  Date:              </th> <td>Wed, 20 Oct 2021</td>\n",
       "</tr>\n",
       "<tr>\n",
       "  <th>Box-Cox:</th>                  <td>False</td>        <th>  Time:              </th>     <td>21:38:05</td>    \n",
       "</tr>\n",
       "<tr>\n",
       "  <th>Box-Cox Coeff.:</th>           <td>None</td>         <th>                     </th>         <td> </td>       \n",
       "</tr>\n",
       "</table>\n",
       "<table class=\"simpletable\">\n",
       "<tr>\n",
       "         <td></td>                 <th>coeff</th>                <th>code</th>               <th>optimized</th>     \n",
       "</tr>\n",
       "<tr>\n",
       "  <th>smoothing_level</th> <td>           0.3227497</td> <td>               alpha</td> <td>                True</td>\n",
       "</tr>\n",
       "<tr>\n",
       "  <th>initial_level</th>   <td>           388.10601</td> <td>                 l.0</td> <td>                True</td>\n",
       "</tr>\n",
       "</table>"
      ],
      "text/plain": [
       "<class 'statsmodels.iolib.summary.Summary'>\n",
       "\"\"\"\n",
       "                       ExponentialSmoothing Model Results                       \n",
       "================================================================================\n",
       "Dep. Variable:                   Demand   No. Observations:                   25\n",
       "Model:             ExponentialSmoothing   SSE                         562690.236\n",
       "Optimized:                         True   AIC                            254.540\n",
       "Trend:                             None   BIC                            256.978\n",
       "Seasonal:                          None   AICC                           256.540\n",
       "Seasonal Periods:                  None   Date:                 Wed, 20 Oct 2021\n",
       "Box-Cox:                          False   Time:                         21:38:05\n",
       "Box-Cox Coeff.:                    None                                         \n",
       "==============================================================================\n",
       "                       coeff                 code              optimized      \n",
       "------------------------------------------------------------------------------\n",
       "smoothing_level            0.3227497                alpha                 True\n",
       "initial_level              388.10601                  l.0                 True\n",
       "------------------------------------------------------------------------------\n",
       "\"\"\""
      ]
     },
     "execution_count": 11,
     "metadata": {},
     "output_type": "execute_result"
    }
   ],
   "source": [
    "### Statistics for the model\n",
    "\n",
    "model.summary()"
   ]
  },
  {
   "cell_type": "markdown",
   "id": "aafccc86",
   "metadata": {},
   "source": [
    "### Calculating forecasts"
   ]
  },
  {
   "cell_type": "markdown",
   "id": "4d153e2f",
   "metadata": {},
   "source": [
    "In order to determine time labels for the predictions\n",
    "\n",
    "- The first time label of the forecasted occasions has to be the next time label after the time series.\n",
    "- The number of the predicted occasions can be determined using the parameter **periods**.\n",
    "- The frequency of the predicted occasions has to be the same as the value used for the parameter **freq** in fitting the model."
   ]
  },
  {
   "cell_type": "markdown",
   "id": "07d7e63a",
   "metadata": {},
   "source": [
    "Further information of possible values for the parameter **freq** can be found at https://pandas.pydata.org/pandas-docs/stable/user_guide/timeseries.html#offset-aliases."
   ]
  },
  {
   "cell_type": "code",
   "execution_count": 12,
   "id": "d28dcb39",
   "metadata": {},
   "outputs": [
    {
     "data": {
      "text/html": [
       "<div>\n",
       "<style scoped>\n",
       "    .dataframe tbody tr th:only-of-type {\n",
       "        vertical-align: middle;\n",
       "    }\n",
       "\n",
       "    .dataframe tbody tr th {\n",
       "        vertical-align: top;\n",
       "    }\n",
       "\n",
       "    .dataframe thead th {\n",
       "        text-align: right;\n",
       "    }\n",
       "</style>\n",
       "<table border=\"1\" class=\"dataframe\">\n",
       "  <thead>\n",
       "    <tr style=\"text-align: right;\">\n",
       "      <th></th>\n",
       "      <th>Demand</th>\n",
       "      <th>Forecast</th>\n",
       "      <th>Residual</th>\n",
       "    </tr>\n",
       "    <tr>\n",
       "      <th>Quarter</th>\n",
       "      <th></th>\n",
       "      <th></th>\n",
       "      <th></th>\n",
       "    </tr>\n",
       "  </thead>\n",
       "  <tbody>\n",
       "    <tr>\n",
       "      <th>2018-12-31</th>\n",
       "      <td>750</td>\n",
       "      <td>468.808572</td>\n",
       "      <td>281.191428</td>\n",
       "    </tr>\n",
       "    <tr>\n",
       "      <th>2019-03-31</th>\n",
       "      <td>500</td>\n",
       "      <td>559.563017</td>\n",
       "      <td>-59.563017</td>\n",
       "    </tr>\n",
       "    <tr>\n",
       "      <th>2019-06-30</th>\n",
       "      <td>400</td>\n",
       "      <td>540.339072</td>\n",
       "      <td>-140.339072</td>\n",
       "    </tr>\n",
       "    <tr>\n",
       "      <th>2019-09-30</th>\n",
       "      <td>650</td>\n",
       "      <td>495.044681</td>\n",
       "      <td>154.955319</td>\n",
       "    </tr>\n",
       "    <tr>\n",
       "      <th>2019-12-31</th>\n",
       "      <td>850</td>\n",
       "      <td>545.056461</td>\n",
       "      <td>304.943539</td>\n",
       "    </tr>\n",
       "  </tbody>\n",
       "</table>\n",
       "</div>"
      ],
      "text/plain": [
       "            Demand    Forecast    Residual\n",
       "Quarter                                   \n",
       "2018-12-31     750  468.808572  281.191428\n",
       "2019-03-31     500  559.563017  -59.563017\n",
       "2019-06-30     400  540.339072 -140.339072\n",
       "2019-09-30     650  495.044681  154.955319\n",
       "2019-12-31     850  545.056461  304.943539"
      ]
     },
     "execution_count": 12,
     "metadata": {},
     "output_type": "execute_result"
    }
   ],
   "source": [
    "### Check the last time label of the time series.\n",
    "\n",
    "df.tail()"
   ]
  },
  {
   "cell_type": "code",
   "execution_count": 16,
   "id": "879cddfe",
   "metadata": {},
   "outputs": [
    {
     "data": {
      "text/html": [
       "<div>\n",
       "<style scoped>\n",
       "    .dataframe tbody tr th:only-of-type {\n",
       "        vertical-align: middle;\n",
       "    }\n",
       "\n",
       "    .dataframe tbody tr th {\n",
       "        vertical-align: top;\n",
       "    }\n",
       "\n",
       "    .dataframe thead th {\n",
       "        text-align: right;\n",
       "    }\n",
       "</style>\n",
       "<table border=\"1\" class=\"dataframe\">\n",
       "  <thead>\n",
       "    <tr style=\"text-align: right;\">\n",
       "      <th></th>\n",
       "      <th>Forecast</th>\n",
       "    </tr>\n",
       "  </thead>\n",
       "  <tbody>\n",
       "    <tr>\n",
       "      <th>2020-03-31</th>\n",
       "      <td>643.476892</td>\n",
       "    </tr>\n",
       "    <tr>\n",
       "      <th>2020-06-30</th>\n",
       "      <td>643.476892</td>\n",
       "    </tr>\n",
       "    <tr>\n",
       "      <th>2020-09-30</th>\n",
       "      <td>643.476892</td>\n",
       "    </tr>\n",
       "    <tr>\n",
       "      <th>2020-12-31</th>\n",
       "      <td>643.476892</td>\n",
       "    </tr>\n",
       "    <tr>\n",
       "      <th>2021-03-31</th>\n",
       "      <td>643.476892</td>\n",
       "    </tr>\n",
       "    <tr>\n",
       "      <th>2021-06-30</th>\n",
       "      <td>643.476892</td>\n",
       "    </tr>\n",
       "    <tr>\n",
       "      <th>2021-09-30</th>\n",
       "      <td>643.476892</td>\n",
       "    </tr>\n",
       "    <tr>\n",
       "      <th>2021-12-31</th>\n",
       "      <td>643.476892</td>\n",
       "    </tr>\n",
       "  </tbody>\n",
       "</table>\n",
       "</div>"
      ],
      "text/plain": [
       "              Forecast\n",
       "2020-03-31  643.476892\n",
       "2020-06-30  643.476892\n",
       "2020-09-30  643.476892\n",
       "2020-12-31  643.476892\n",
       "2021-03-31  643.476892\n",
       "2021-06-30  643.476892\n",
       "2021-09-30  643.476892\n",
       "2021-12-31  643.476892"
      ]
     },
     "execution_count": 16,
     "metadata": {},
     "output_type": "execute_result"
    }
   ],
   "source": [
    "### Add time labels for the forecasted occasions.\n",
    "### The first date is later than the last time label in the time series.\n",
    "\n",
    "index = pd.date_range('2020-03-31', periods = 8, freq = 'Q')\n",
    "\n",
    "### Predicted values for the following eight quarters.\n",
    "\n",
    "forecasts = model.forecast(8)\n",
    "\n",
    "### Add forecasts to the dataframe:\n",
    "\n",
    "df_forecast = pd.DataFrame(data = forecasts, index = index, columns = ['Forecast'])\n",
    "\n",
    "df_forecast"
   ]
  },
  {
   "cell_type": "code",
   "execution_count": 17,
   "id": "9c01e148",
   "metadata": {},
   "outputs": [
    {
     "data": {
      "text/plain": [
       "<AxesSubplot:xlabel='Quarter'>"
      ]
     },
     "execution_count": 17,
     "metadata": {},
     "output_type": "execute_result"
    },
    {
     "data": {
      "image/png": "[encoded data removed]",
      "text/plain": [
       "<Figure size 432x288 with 1 Axes>"
      ]
     },
     "metadata": {},
     "output_type": "display_data"
    }
   ],
   "source": [
    "### Next add a line chart of the realized observations.\n",
    "\n",
    "df['Demand'].plot()\n",
    "\n",
    "### Add forecasted values to the same coordinate system.\n",
    "### Here we see that simple exponential smoothing gives a prediction that is a constant (graphically straight line).\n",
    "\n",
    "df_forecast['Forecast'].plot()"
   ]
  },
  {
   "cell_type": "markdown",
   "id": "79e2deb6",
   "metadata": {},
   "source": [
    "Source and origin of inspiration:<br /> \n",
    "Aki Taanila: Data-analytiikka Pythonilla: <a href=\"https://tilastoapu.wordpress.com/python/\">https://tilastoapu.wordpress.com/python/</a>"
   ]
  }
 ],
 "metadata": {
  "kernelspec": {
   "display_name": "Python 3",
   "language": "python",
   "name": "python3"
  },
  "language_info": {
   "codemirror_mode": {
    "name": "ipython",
    "version": 3
   },
   "file_extension": ".py",
   "mimetype": "text/x-python",
   "name": "python",
   "nbconvert_exporter": "python",
   "pygments_lexer": "ipython3",
   "version": "3.7.11"
  }
 },
 "nbformat": 4,
 "nbformat_minor": 5
}
