{
 "cells": [
  {
   "cell_type": "markdown",
   "id": "640a6bbd",
   "metadata": {},
   "source": [
    "# Time series forecasting, part two of three"
   ]
  },
  {
   "cell_type": "markdown",
   "id": "80b39a83",
   "metadata": {},
   "source": [
    "In this note we continue forecasting using exponential smoothing. Models of exponential smoothing are commonly used in touch with business applications when forecasting demand. Those models are user-friendly, they can be calculated rather quickly and they can be easily updated when new observations become available. "
   ]
  },
  {
   "cell_type": "markdown",
   "id": "15f1128f",
   "metadata": {},
   "source": [
    "Here the double exponential smoothing, i.e., the Holt model is considered. This model takes trend of the time series into account. So the model applies particularly well to the cases where there is a trend but not periodic variation in the time series."
   ]
  },
  {
   "cell_type": "markdown",
   "id": "8949d11e",
   "metadata": {},
   "source": [
    "In the Holt model _the level $L$ of the time series at the occasion $t$_ is determined by the formula\n",
    "\n",
    "$$ L_t = \\alpha \\cdot Y_t + (1-\\alpha) \\cdot (L_{t-1} + T_{t-1}) $$"
   ]
  },
  {
   "cell_type": "markdown",
   "id": "7a9c8bc2",
   "metadata": {},
   "source": [
    "Above $Y_t$ is the latest observation and $T_{t-1}$ is the value of the trend at the previous occasion $t-1$. Trend at the occasion $t$ is evaluated from the formula\n",
    "\n",
    "$$ T_t = \\beta \\cdot (L_t - L_{t-1}) + (1-\\beta) \\cdot T_{t-1} $$"
   ]
  },
  {
   "cell_type": "markdown",
   "id": "7ba3e0fb",
   "metadata": {},
   "source": [
    "The forecast for the occasion $t+p$ is obtained as\n",
    "\n",
    "$$ L_t + p \\cdot T_t$$"
   ]
  },
  {
   "cell_type": "markdown",
   "id": "53ca3cab",
   "metadata": {},
   "source": [
    "Values of the parameters $\\alpha$ and $\\beta$ of the model are defined so that the mean of squares of errors of predictions is as small as possible."
   ]
  },
  {
   "cell_type": "markdown",
   "id": "eb79570e",
   "metadata": {},
   "source": [
    "## Using Python with double exponential smoothing"
   ]
  },
  {
   "cell_type": "markdown",
   "id": "7ebafdb1",
   "metadata": {},
   "source": [
    "The function for exponential smoothing is found at the library **statsmodels.tsa**."
   ]
  },
  {
   "cell_type": "markdown",
   "id": "5d6c91ff",
   "metadata": {},
   "source": [
    "Observe that in the example below double exponential smoothing is not the ideal model as there obviously is a periodic variation in the time series. This model ignores that periodic variation."
   ]
  },
  {
   "cell_type": "code",
   "execution_count": 1,
   "id": "419be318",
   "metadata": {},
   "outputs": [],
   "source": [
    "### Import the necessary libraries\n",
    "\n",
    "import pandas as pd\n",
    "import matplotlib.pyplot as plt\n",
    "\n",
    "from statsmodels.tsa.api import ExponentialSmoothing\n",
    "\n",
    "import warnings\n",
    "warnings.filterwarnings('ignore')\n",
    "\n",
    "### The following style is used. \n",
    "\n",
    "plt.style.use('seaborn-whitegrid')"
   ]
  },
  {
   "cell_type": "markdown",
   "id": "e524aec4",
   "metadata": {},
   "source": [
    "### Studying the time series"
   ]
  },
  {
   "cell_type": "code",
   "execution_count": 2,
   "id": "29142772",
   "metadata": {},
   "outputs": [
    {
     "data": {
      "text/html": [
       "<div>\n",
       "<style scoped>\n",
       "    .dataframe tbody tr th:only-of-type {\n",
       "        vertical-align: middle;\n",
       "    }\n",
       "\n",
       "    .dataframe tbody tr th {\n",
       "        vertical-align: top;\n",
       "    }\n",
       "\n",
       "    .dataframe thead th {\n",
       "        text-align: right;\n",
       "    }\n",
       "</style>\n",
       "<table border=\"1\" class=\"dataframe\">\n",
       "  <thead>\n",
       "    <tr style=\"text-align: right;\">\n",
       "      <th></th>\n",
       "      <th>Quarter</th>\n",
       "      <th>Demand</th>\n",
       "    </tr>\n",
       "  </thead>\n",
       "  <tbody>\n",
       "    <tr>\n",
       "      <th>0</th>\n",
       "      <td>2013-12-31</td>\n",
       "      <td>500</td>\n",
       "    </tr>\n",
       "    <tr>\n",
       "      <th>1</th>\n",
       "      <td>2014-03-31</td>\n",
       "      <td>350</td>\n",
       "    </tr>\n",
       "    <tr>\n",
       "      <th>2</th>\n",
       "      <td>2014-06-30</td>\n",
       "      <td>250</td>\n",
       "    </tr>\n",
       "    <tr>\n",
       "      <th>3</th>\n",
       "      <td>2014-09-30</td>\n",
       "      <td>400</td>\n",
       "    </tr>\n",
       "    <tr>\n",
       "      <th>4</th>\n",
       "      <td>2014-12-31</td>\n",
       "      <td>450</td>\n",
       "    </tr>\n",
       "  </tbody>\n",
       "</table>\n",
       "</div>"
      ],
      "text/plain": [
       "     Quarter  Demand\n",
       "0 2013-12-31     500\n",
       "1 2014-03-31     350\n",
       "2 2014-06-30     250\n",
       "3 2014-09-30     400\n",
       "4 2014-12-31     450"
      ]
     },
     "execution_count": 2,
     "metadata": {},
     "output_type": "execute_result"
    }
   ],
   "source": [
    "### Open the data.\n",
    "\n",
    "df = pd.read_excel('http://myy.haaga-helia.fi/~menetelmat/Data-analytiikka/Teaching/time_series.xlsx')\n",
    "\n",
    "df.head()"
   ]
  },
  {
   "cell_type": "code",
   "execution_count": 3,
   "id": "4425d974",
   "metadata": {},
   "outputs": [
    {
     "data": {
      "text/html": [
       "<div>\n",
       "<style scoped>\n",
       "    .dataframe tbody tr th:only-of-type {\n",
       "        vertical-align: middle;\n",
       "    }\n",
       "\n",
       "    .dataframe tbody tr th {\n",
       "        vertical-align: top;\n",
       "    }\n",
       "\n",
       "    .dataframe thead th {\n",
       "        text-align: right;\n",
       "    }\n",
       "</style>\n",
       "<table border=\"1\" class=\"dataframe\">\n",
       "  <thead>\n",
       "    <tr style=\"text-align: right;\">\n",
       "      <th></th>\n",
       "      <th>Demand</th>\n",
       "    </tr>\n",
       "    <tr>\n",
       "      <th>Quarter</th>\n",
       "      <th></th>\n",
       "    </tr>\n",
       "  </thead>\n",
       "  <tbody>\n",
       "    <tr>\n",
       "      <th>2013-12-31</th>\n",
       "      <td>500</td>\n",
       "    </tr>\n",
       "    <tr>\n",
       "      <th>2014-03-31</th>\n",
       "      <td>350</td>\n",
       "    </tr>\n",
       "    <tr>\n",
       "      <th>2014-06-30</th>\n",
       "      <td>250</td>\n",
       "    </tr>\n",
       "    <tr>\n",
       "      <th>2014-09-30</th>\n",
       "      <td>400</td>\n",
       "    </tr>\n",
       "    <tr>\n",
       "      <th>2014-12-31</th>\n",
       "      <td>450</td>\n",
       "    </tr>\n",
       "  </tbody>\n",
       "</table>\n",
       "</div>"
      ],
      "text/plain": [
       "            Demand\n",
       "Quarter           \n",
       "2013-12-31     500\n",
       "2014-03-31     350\n",
       "2014-06-30     250\n",
       "2014-09-30     400\n",
       "2014-12-31     450"
      ]
     },
     "execution_count": 3,
     "metadata": {},
     "output_type": "execute_result"
    }
   ],
   "source": [
    "### Move time labels to be in the index.\n",
    "### The function to_datetime converts time related strings into time labels that Python understands.\n",
    "### The parameter format allows recognizing different representations as time labels.\n",
    "\n",
    "df.index = pd.to_datetime(df['Quarter'], format = \"%Y-%m-%d\")\n",
    "\n",
    "### Omit the obsolete column.\n",
    "\n",
    "df = df.drop('Quarter', axis = 1)\n",
    "df.head()"
   ]
  },
  {
   "cell_type": "code",
   "execution_count": 4,
   "id": "cdc76c2b",
   "metadata": {},
   "outputs": [
    {
     "data": {
      "text/plain": [
       "<AxesSubplot:xlabel='Quarter'>"
      ]
     },
     "execution_count": 4,
     "metadata": {},
     "output_type": "execute_result"
    },
    {
     "data": {
      "image/png": "[encoded data removed]",
      "text/plain": [
       "<Figure size 432x288 with 1 Axes>"
      ]
     },
     "metadata": {},
     "output_type": "display_data"
    }
   ],
   "source": [
    "### Let's take a view at the line chart of the data.\n",
    "\n",
    "df.plot()"
   ]
  },
  {
   "cell_type": "markdown",
   "id": "cbfc2614",
   "metadata": {},
   "source": [
    "### Fitting the model"
   ]
  },
  {
   "cell_type": "markdown",
   "id": "e7775b7d",
   "metadata": {},
   "source": [
    "The model for the forecast is fitted (**fit()**) to the data in the time series. As result we get an object (here named as **model**) which contains a lot of information about the model. "
   ]
  },
  {
   "cell_type": "markdown",
   "id": "8d58907f",
   "metadata": {},
   "source": [
    "Addition model (**add**) is used for the (**trend**). In addition model trend is added to the time series. "
   ]
  },
  {
   "cell_type": "markdown",
   "id": "804b96b2",
   "metadata": {},
   "source": [
    "The value **'Q'** is used for the parameter **freq**. This is because the time series consists of last days of quarter annual periods. More information on the possible values for the parameter **freq** is listed at https://pandas.pydata.org/pandas-docs/stable/user_guide/timeseries.html#offset-aliases."
   ]
  },
  {
   "cell_type": "code",
   "execution_count": 17,
   "id": "41ddb591",
   "metadata": {},
   "outputs": [],
   "source": [
    "### Fitting the double exponential smoothing model into the object named model.\n",
    "### Addition model is used in this example.\n",
    "\n",
    "model = ExponentialSmoothing(df['Demand'], trend = 'add', freq = 'Q').fit()"
   ]
  },
  {
   "cell_type": "code",
   "execution_count": 6,
   "id": "366cd851",
   "metadata": {},
   "outputs": [
    {
     "data": {
      "text/html": [
       "<div>\n",
       "<style scoped>\n",
       "    .dataframe tbody tr th:only-of-type {\n",
       "        vertical-align: middle;\n",
       "    }\n",
       "\n",
       "    .dataframe tbody tr th {\n",
       "        vertical-align: top;\n",
       "    }\n",
       "\n",
       "    .dataframe thead th {\n",
       "        text-align: right;\n",
       "    }\n",
       "</style>\n",
       "<table border=\"1\" class=\"dataframe\">\n",
       "  <thead>\n",
       "    <tr style=\"text-align: right;\">\n",
       "      <th></th>\n",
       "      <th>Demand</th>\n",
       "      <th>Forecast</th>\n",
       "    </tr>\n",
       "    <tr>\n",
       "      <th>Quarter</th>\n",
       "      <th></th>\n",
       "      <th></th>\n",
       "    </tr>\n",
       "  </thead>\n",
       "  <tbody>\n",
       "    <tr>\n",
       "      <th>2013-12-31</th>\n",
       "      <td>500</td>\n",
       "      <td>456.172960</td>\n",
       "    </tr>\n",
       "    <tr>\n",
       "      <th>2014-03-31</th>\n",
       "      <td>350</td>\n",
       "      <td>443.611040</td>\n",
       "    </tr>\n",
       "    <tr>\n",
       "      <th>2014-06-30</th>\n",
       "      <td>250</td>\n",
       "      <td>361.526408</td>\n",
       "    </tr>\n",
       "    <tr>\n",
       "      <th>2014-09-30</th>\n",
       "      <td>400</td>\n",
       "      <td>254.648372</td>\n",
       "    </tr>\n",
       "    <tr>\n",
       "      <th>2014-12-31</th>\n",
       "      <td>450</td>\n",
       "      <td>273.021549</td>\n",
       "    </tr>\n",
       "    <tr>\n",
       "      <th>2015-03-31</th>\n",
       "      <td>350</td>\n",
       "      <td>332.011223</td>\n",
       "    </tr>\n",
       "    <tr>\n",
       "      <th>2015-06-30</th>\n",
       "      <td>200</td>\n",
       "      <td>330.576452</td>\n",
       "    </tr>\n",
       "    <tr>\n",
       "      <th>2015-09-30</th>\n",
       "      <td>300</td>\n",
       "      <td>249.336079</td>\n",
       "    </tr>\n",
       "    <tr>\n",
       "      <th>2015-12-31</th>\n",
       "      <td>350</td>\n",
       "      <td>248.248548</td>\n",
       "    </tr>\n",
       "    <tr>\n",
       "      <th>2016-03-31</th>\n",
       "      <td>200</td>\n",
       "      <td>283.607869</td>\n",
       "    </tr>\n",
       "    <tr>\n",
       "      <th>2016-06-30</th>\n",
       "      <td>150</td>\n",
       "      <td>231.957449</td>\n",
       "    </tr>\n",
       "    <tr>\n",
       "      <th>2016-09-30</th>\n",
       "      <td>400</td>\n",
       "      <td>167.983408</td>\n",
       "    </tr>\n",
       "    <tr>\n",
       "      <th>2016-12-31</th>\n",
       "      <td>550</td>\n",
       "      <td>265.709238</td>\n",
       "    </tr>\n",
       "    <tr>\n",
       "      <th>2017-03-31</th>\n",
       "      <td>350</td>\n",
       "      <td>429.264792</td>\n",
       "    </tr>\n",
       "    <tr>\n",
       "      <th>2017-06-30</th>\n",
       "      <td>250</td>\n",
       "      <td>435.581268</td>\n",
       "    </tr>\n",
       "    <tr>\n",
       "      <th>2017-09-30</th>\n",
       "      <td>550</td>\n",
       "      <td>370.194305</td>\n",
       "    </tr>\n",
       "    <tr>\n",
       "      <th>2017-12-31</th>\n",
       "      <td>550</td>\n",
       "      <td>478.698964</td>\n",
       "    </tr>\n",
       "    <tr>\n",
       "      <th>2018-03-31</th>\n",
       "      <td>400</td>\n",
       "      <td>555.314433</td>\n",
       "    </tr>\n",
       "    <tr>\n",
       "      <th>2018-06-30</th>\n",
       "      <td>350</td>\n",
       "      <td>517.144446</td>\n",
       "    </tr>\n",
       "    <tr>\n",
       "      <th>2018-09-30</th>\n",
       "      <td>600</td>\n",
       "      <td>447.794059</td>\n",
       "    </tr>\n",
       "    <tr>\n",
       "      <th>2018-12-31</th>\n",
       "      <td>750</td>\n",
       "      <td>529.642749</td>\n",
       "    </tr>\n",
       "    <tr>\n",
       "      <th>2019-03-31</th>\n",
       "      <td>500</td>\n",
       "      <td>673.514021</td>\n",
       "    </tr>\n",
       "    <tr>\n",
       "      <th>2019-06-30</th>\n",
       "      <td>400</td>\n",
       "      <td>633.154177</td>\n",
       "    </tr>\n",
       "    <tr>\n",
       "      <th>2019-09-30</th>\n",
       "      <td>650</td>\n",
       "      <td>532.132175</td>\n",
       "    </tr>\n",
       "    <tr>\n",
       "      <th>2019-12-31</th>\n",
       "      <td>850</td>\n",
       "      <td>589.475201</td>\n",
       "    </tr>\n",
       "  </tbody>\n",
       "</table>\n",
       "</div>"
      ],
      "text/plain": [
       "            Demand    Forecast\n",
       "Quarter                       \n",
       "2013-12-31     500  456.172960\n",
       "2014-03-31     350  443.611040\n",
       "2014-06-30     250  361.526408\n",
       "2014-09-30     400  254.648372\n",
       "2014-12-31     450  273.021549\n",
       "2015-03-31     350  332.011223\n",
       "2015-06-30     200  330.576452\n",
       "2015-09-30     300  249.336079\n",
       "2015-12-31     350  248.248548\n",
       "2016-03-31     200  283.607869\n",
       "2016-06-30     150  231.957449\n",
       "2016-09-30     400  167.983408\n",
       "2016-12-31     550  265.709238\n",
       "2017-03-31     350  429.264792\n",
       "2017-06-30     250  435.581268\n",
       "2017-09-30     550  370.194305\n",
       "2017-12-31     550  478.698964\n",
       "2018-03-31     400  555.314433\n",
       "2018-06-30     350  517.144446\n",
       "2018-09-30     600  447.794059\n",
       "2018-12-31     750  529.642749\n",
       "2019-03-31     500  673.514021\n",
       "2019-06-30     400  633.154177\n",
       "2019-09-30     650  532.132175\n",
       "2019-12-31     850  589.475201"
      ]
     },
     "execution_count": 6,
     "metadata": {},
     "output_type": "execute_result"
    }
   ],
   "source": [
    "### The object called model gives us the simulated predictions according to the exponential smoothing model (fittedvalues).\n",
    "\n",
    "df['Forecast'] = model.fittedvalues\n",
    "\n",
    "df"
   ]
  },
  {
   "cell_type": "code",
   "execution_count": 7,
   "id": "1af8dd15",
   "metadata": {},
   "outputs": [
    {
     "data": {
      "text/plain": [
       "<AxesSubplot:xlabel='Quarter'>"
      ]
     },
     "execution_count": 7,
     "metadata": {},
     "output_type": "execute_result"
    },
    {
     "data": {
      "image/png": "[encoded data removed]",
      "text/plain": [
       "<Figure size 432x288 with 1 Axes>"
      ]
     },
     "metadata": {},
     "output_type": "display_data"
    }
   ],
   "source": [
    "### Draw the original time series and the predictions by the exponential smoothing model in the same coordinate system.\n",
    "\n",
    "df.plot()"
   ]
  },
  {
   "cell_type": "code",
   "execution_count": 18,
   "id": "5c7beb25",
   "metadata": {
    "scrolled": true
   },
   "outputs": [
    {
     "data": {
      "text/html": [
       "<div>\n",
       "<style scoped>\n",
       "    .dataframe tbody tr th:only-of-type {\n",
       "        vertical-align: middle;\n",
       "    }\n",
       "\n",
       "    .dataframe tbody tr th {\n",
       "        vertical-align: top;\n",
       "    }\n",
       "\n",
       "    .dataframe thead th {\n",
       "        text-align: right;\n",
       "    }\n",
       "</style>\n",
       "<table border=\"1\" class=\"dataframe\">\n",
       "  <thead>\n",
       "    <tr style=\"text-align: right;\">\n",
       "      <th></th>\n",
       "      <th>Demand</th>\n",
       "      <th>Forecast</th>\n",
       "      <th>Residual</th>\n",
       "    </tr>\n",
       "    <tr>\n",
       "      <th>Quarter</th>\n",
       "      <th></th>\n",
       "      <th></th>\n",
       "      <th></th>\n",
       "    </tr>\n",
       "  </thead>\n",
       "  <tbody>\n",
       "    <tr>\n",
       "      <th>2013-12-31</th>\n",
       "      <td>500</td>\n",
       "      <td>456.172960</td>\n",
       "      <td>43.827040</td>\n",
       "    </tr>\n",
       "    <tr>\n",
       "      <th>2014-03-31</th>\n",
       "      <td>350</td>\n",
       "      <td>443.611040</td>\n",
       "      <td>-93.611040</td>\n",
       "    </tr>\n",
       "    <tr>\n",
       "      <th>2014-06-30</th>\n",
       "      <td>250</td>\n",
       "      <td>361.526408</td>\n",
       "      <td>-111.526408</td>\n",
       "    </tr>\n",
       "    <tr>\n",
       "      <th>2014-09-30</th>\n",
       "      <td>400</td>\n",
       "      <td>254.648372</td>\n",
       "      <td>145.351628</td>\n",
       "    </tr>\n",
       "    <tr>\n",
       "      <th>2014-12-31</th>\n",
       "      <td>450</td>\n",
       "      <td>273.021549</td>\n",
       "      <td>176.978451</td>\n",
       "    </tr>\n",
       "    <tr>\n",
       "      <th>2015-03-31</th>\n",
       "      <td>350</td>\n",
       "      <td>332.011223</td>\n",
       "      <td>17.988777</td>\n",
       "    </tr>\n",
       "    <tr>\n",
       "      <th>2015-06-30</th>\n",
       "      <td>200</td>\n",
       "      <td>330.576452</td>\n",
       "      <td>-130.576452</td>\n",
       "    </tr>\n",
       "    <tr>\n",
       "      <th>2015-09-30</th>\n",
       "      <td>300</td>\n",
       "      <td>249.336079</td>\n",
       "      <td>50.663921</td>\n",
       "    </tr>\n",
       "    <tr>\n",
       "      <th>2015-12-31</th>\n",
       "      <td>350</td>\n",
       "      <td>248.248548</td>\n",
       "      <td>101.751452</td>\n",
       "    </tr>\n",
       "    <tr>\n",
       "      <th>2016-03-31</th>\n",
       "      <td>200</td>\n",
       "      <td>283.607869</td>\n",
       "      <td>-83.607869</td>\n",
       "    </tr>\n",
       "    <tr>\n",
       "      <th>2016-06-30</th>\n",
       "      <td>150</td>\n",
       "      <td>231.957449</td>\n",
       "      <td>-81.957449</td>\n",
       "    </tr>\n",
       "    <tr>\n",
       "      <th>2016-09-30</th>\n",
       "      <td>400</td>\n",
       "      <td>167.983408</td>\n",
       "      <td>232.016592</td>\n",
       "    </tr>\n",
       "    <tr>\n",
       "      <th>2016-12-31</th>\n",
       "      <td>550</td>\n",
       "      <td>265.709238</td>\n",
       "      <td>284.290762</td>\n",
       "    </tr>\n",
       "    <tr>\n",
       "      <th>2017-03-31</th>\n",
       "      <td>350</td>\n",
       "      <td>429.264792</td>\n",
       "      <td>-79.264792</td>\n",
       "    </tr>\n",
       "    <tr>\n",
       "      <th>2017-06-30</th>\n",
       "      <td>250</td>\n",
       "      <td>435.581268</td>\n",
       "      <td>-185.581268</td>\n",
       "    </tr>\n",
       "    <tr>\n",
       "      <th>2017-09-30</th>\n",
       "      <td>550</td>\n",
       "      <td>370.194305</td>\n",
       "      <td>179.805695</td>\n",
       "    </tr>\n",
       "    <tr>\n",
       "      <th>2017-12-31</th>\n",
       "      <td>550</td>\n",
       "      <td>478.698964</td>\n",
       "      <td>71.301036</td>\n",
       "    </tr>\n",
       "    <tr>\n",
       "      <th>2018-03-31</th>\n",
       "      <td>400</td>\n",
       "      <td>555.314433</td>\n",
       "      <td>-155.314433</td>\n",
       "    </tr>\n",
       "    <tr>\n",
       "      <th>2018-06-30</th>\n",
       "      <td>350</td>\n",
       "      <td>517.144446</td>\n",
       "      <td>-167.144446</td>\n",
       "    </tr>\n",
       "    <tr>\n",
       "      <th>2018-09-30</th>\n",
       "      <td>600</td>\n",
       "      <td>447.794059</td>\n",
       "      <td>152.205941</td>\n",
       "    </tr>\n",
       "    <tr>\n",
       "      <th>2018-12-31</th>\n",
       "      <td>750</td>\n",
       "      <td>529.642749</td>\n",
       "      <td>220.357251</td>\n",
       "    </tr>\n",
       "    <tr>\n",
       "      <th>2019-03-31</th>\n",
       "      <td>500</td>\n",
       "      <td>673.514021</td>\n",
       "      <td>-173.514021</td>\n",
       "    </tr>\n",
       "    <tr>\n",
       "      <th>2019-06-30</th>\n",
       "      <td>400</td>\n",
       "      <td>633.154177</td>\n",
       "      <td>-233.154177</td>\n",
       "    </tr>\n",
       "    <tr>\n",
       "      <th>2019-09-30</th>\n",
       "      <td>650</td>\n",
       "      <td>532.132175</td>\n",
       "      <td>117.867825</td>\n",
       "    </tr>\n",
       "    <tr>\n",
       "      <th>2019-12-31</th>\n",
       "      <td>850</td>\n",
       "      <td>589.475201</td>\n",
       "      <td>260.524799</td>\n",
       "    </tr>\n",
       "  </tbody>\n",
       "</table>\n",
       "</div>"
      ],
      "text/plain": [
       "            Demand    Forecast    Residual\n",
       "Quarter                                   \n",
       "2013-12-31     500  456.172960   43.827040\n",
       "2014-03-31     350  443.611040  -93.611040\n",
       "2014-06-30     250  361.526408 -111.526408\n",
       "2014-09-30     400  254.648372  145.351628\n",
       "2014-12-31     450  273.021549  176.978451\n",
       "2015-03-31     350  332.011223   17.988777\n",
       "2015-06-30     200  330.576452 -130.576452\n",
       "2015-09-30     300  249.336079   50.663921\n",
       "2015-12-31     350  248.248548  101.751452\n",
       "2016-03-31     200  283.607869  -83.607869\n",
       "2016-06-30     150  231.957449  -81.957449\n",
       "2016-09-30     400  167.983408  232.016592\n",
       "2016-12-31     550  265.709238  284.290762\n",
       "2017-03-31     350  429.264792  -79.264792\n",
       "2017-06-30     250  435.581268 -185.581268\n",
       "2017-09-30     550  370.194305  179.805695\n",
       "2017-12-31     550  478.698964   71.301036\n",
       "2018-03-31     400  555.314433 -155.314433\n",
       "2018-06-30     350  517.144446 -167.144446\n",
       "2018-09-30     600  447.794059  152.205941\n",
       "2018-12-31     750  529.642749  220.357251\n",
       "2019-03-31     500  673.514021 -173.514021\n",
       "2019-06-30     400  633.154177 -233.154177\n",
       "2019-09-30     650  532.132175  117.867825\n",
       "2019-12-31     850  589.475201  260.524799"
      ]
     },
     "execution_count": 18,
     "metadata": {},
     "output_type": "execute_result"
    }
   ],
   "source": [
    "### Errors of the prediction (residuals) are found in the the object named model.\n",
    "\n",
    "df['Residual'] = model.resid\n",
    "\n",
    "df"
   ]
  },
  {
   "cell_type": "markdown",
   "id": "e49af060",
   "metadata": {},
   "source": [
    "### Studying the model"
   ]
  },
  {
   "cell_type": "markdown",
   "id": "1a529806",
   "metadata": {},
   "source": [
    "There are several ways to estimate how good the prediction model is. In this note we consider\n",
    "\n",
    "- line chart of time series for errors of forecast\n",
    "- scatter chart of forecasted values and values of realized observations\n",
    "- model statistics which is obtained by the function **summary()**."
   ]
  },
  {
   "cell_type": "markdown",
   "id": "4221596e",
   "metadata": {},
   "source": [
    "In particular, when estimating the model, the SSE, sum of squared errors, should be considered. In the modeling the SSE is tried to be minimized."
   ]
  },
  {
   "cell_type": "code",
   "execution_count": 19,
   "id": "e330274f",
   "metadata": {},
   "outputs": [
    {
     "data": {
      "text/plain": [
       "Text(0, 0.5, 'Error of prediction')"
      ]
     },
     "execution_count": 19,
     "metadata": {},
     "output_type": "execute_result"
    },
    {
     "data": {
      "image/png": "[encoded data removed]",
      "text/plain": [
       "<Figure size 432x288 with 1 Axes>"
      ]
     },
     "metadata": {},
     "output_type": "display_data"
    }
   ],
   "source": [
    "### Draw the errors of forecast as line chart.\n",
    "### Ideally time series of errors of prediction is random.\n",
    "\n",
    "df['Residual'].plot()\n",
    "plt.ylabel('Error of prediction')"
   ]
  },
  {
   "cell_type": "code",
   "execution_count": 20,
   "id": "9ecd5839",
   "metadata": {},
   "outputs": [
    {
     "data": {
      "text/plain": [
       "Text(0, 0.5, 'Realized demand')"
      ]
     },
     "execution_count": 20,
     "metadata": {},
     "output_type": "execute_result"
    },
    {
     "data": {
      "image/png": "[encoded data removed]",
      "text/plain": [
       "<Figure size 432x288 with 1 Axes>"
      ]
     },
     "metadata": {},
     "output_type": "display_data"
    }
   ],
   "source": [
    "### Draw the scatter chart of the predicted and realized demands.\n",
    "### The closer the dots follow a straight line from the lower left corner to the top right corner the better the prediction model is.\n",
    "\n",
    "plt.scatter(x = df['Forecast'], y = df['Demand'])\n",
    "\n",
    "plt.xlabel('Forecast')\n",
    "plt.ylabel('Realized demand')"
   ]
  },
  {
   "cell_type": "code",
   "execution_count": 21,
   "id": "6e8a1b2e",
   "metadata": {},
   "outputs": [
    {
     "data": {
      "text/html": [
       "<table class=\"simpletable\">\n",
       "<caption>ExponentialSmoothing Model Results</caption>\n",
       "<tr>\n",
       "  <th>Dep. Variable:</th>           <td>Demand</td>        <th>  No. Observations:  </th>        <td>25</td>       \n",
       "</tr>\n",
       "<tr>\n",
       "  <th>Model:</th>            <td>ExponentialSmoothing</td> <th>  SSE                </th>    <td>622379.703</td>   \n",
       "</tr>\n",
       "<tr>\n",
       "  <th>Optimized:</th>                <td>True</td>         <th>  AIC                </th>      <td>261.061</td>    \n",
       "</tr>\n",
       "<tr>\n",
       "  <th>Trend:</th>                  <td>Additive</td>       <th>  BIC                </th>      <td>265.936</td>    \n",
       "</tr>\n",
       "<tr>\n",
       "  <th>Seasonal:</th>                 <td>None</td>         <th>  AICC               </th>      <td>265.727</td>    \n",
       "</tr>\n",
       "<tr>\n",
       "  <th>Seasonal Periods:</th>         <td>None</td>         <th>  Date:              </th> <td>Thu, 21 Oct 2021</td>\n",
       "</tr>\n",
       "<tr>\n",
       "  <th>Box-Cox:</th>                  <td>False</td>        <th>  Time:              </th>     <td>20:15:09</td>    \n",
       "</tr>\n",
       "<tr>\n",
       "  <th>Box-Cox Coeff.:</th>           <td>None</td>         <th>                     </th>         <td> </td>       \n",
       "</tr>\n",
       "</table>\n",
       "<table class=\"simpletable\">\n",
       "<tr>\n",
       "         <td></td>                 <th>coeff</th>                <th>code</th>               <th>optimized</th>     \n",
       "</tr>\n",
       "<tr>\n",
       "  <th>smoothing_level</th> <td>           0.3979725</td> <td>               alpha</td> <td>                True</td>\n",
       "</tr>\n",
       "<tr>\n",
       "  <th>smoothing_trend</th> <td>           0.3979679</td> <td>                beta</td> <td>                True</td>\n",
       "</tr>\n",
       "<tr>\n",
       "  <th>initial_level</th>   <td>           493.11817</td> <td>                 l.0</td> <td>                True</td>\n",
       "</tr>\n",
       "<tr>\n",
       "  <th>initial_trend</th>   <td>          -36.945213</td> <td>                 b.0</td> <td>                True</td>\n",
       "</tr>\n",
       "</table>"
      ],
      "text/plain": [
       "<class 'statsmodels.iolib.summary.Summary'>\n",
       "\"\"\"\n",
       "                       ExponentialSmoothing Model Results                       \n",
       "================================================================================\n",
       "Dep. Variable:                   Demand   No. Observations:                   25\n",
       "Model:             ExponentialSmoothing   SSE                         622379.703\n",
       "Optimized:                         True   AIC                            261.061\n",
       "Trend:                         Additive   BIC                            265.936\n",
       "Seasonal:                          None   AICC                           265.727\n",
       "Seasonal Periods:                  None   Date:                 Thu, 21 Oct 2021\n",
       "Box-Cox:                          False   Time:                         20:15:09\n",
       "Box-Cox Coeff.:                    None                                         \n",
       "==============================================================================\n",
       "                       coeff                 code              optimized      \n",
       "------------------------------------------------------------------------------\n",
       "smoothing_level            0.3979725                alpha                 True\n",
       "smoothing_trend            0.3979679                 beta                 True\n",
       "initial_level              493.11817                  l.0                 True\n",
       "initial_trend             -36.945213                  b.0                 True\n",
       "------------------------------------------------------------------------------\n",
       "\"\"\""
      ]
     },
     "execution_count": 21,
     "metadata": {},
     "output_type": "execute_result"
    }
   ],
   "source": [
    "### Statistics for the model\n",
    "\n",
    "model.summary()"
   ]
  },
  {
   "cell_type": "markdown",
   "id": "00fbcd2e",
   "metadata": {},
   "source": [
    "### Calculating the forecasts"
   ]
  },
  {
   "cell_type": "markdown",
   "id": "73165df1",
   "metadata": {},
   "source": [
    "In order to determine time labels for the predictions\n",
    "\n",
    "- The first time label of the forecasted occasions has to be the next time label after the time series.\n",
    "- The number of the predicted occasions can be determined using the parameter **periods**.\n",
    "- The frequency of the predicted occasions has to be the same as the value used for the parameter **freq** in fitting the model."
   ]
  },
  {
   "cell_type": "markdown",
   "id": "1073ba7a",
   "metadata": {},
   "source": [
    "Further information of possible values for the parameter **freq** can be found at https://pandas.pydata.org/pandas-docs/stable/user_guide/timeseries.html#offset-aliases."
   ]
  },
  {
   "cell_type": "code",
   "execution_count": 23,
   "id": "89b41647",
   "metadata": {},
   "outputs": [
    {
     "data": {
      "text/html": [
       "<div>\n",
       "<style scoped>\n",
       "    .dataframe tbody tr th:only-of-type {\n",
       "        vertical-align: middle;\n",
       "    }\n",
       "\n",
       "    .dataframe tbody tr th {\n",
       "        vertical-align: top;\n",
       "    }\n",
       "\n",
       "    .dataframe thead th {\n",
       "        text-align: right;\n",
       "    }\n",
       "</style>\n",
       "<table border=\"1\" class=\"dataframe\">\n",
       "  <thead>\n",
       "    <tr style=\"text-align: right;\">\n",
       "      <th></th>\n",
       "      <th>Demand</th>\n",
       "      <th>Forecast</th>\n",
       "      <th>Residual</th>\n",
       "    </tr>\n",
       "    <tr>\n",
       "      <th>Quarter</th>\n",
       "      <th></th>\n",
       "      <th></th>\n",
       "      <th></th>\n",
       "    </tr>\n",
       "  </thead>\n",
       "  <tbody>\n",
       "    <tr>\n",
       "      <th>2018-12-31</th>\n",
       "      <td>750</td>\n",
       "      <td>529.642749</td>\n",
       "      <td>220.357251</td>\n",
       "    </tr>\n",
       "    <tr>\n",
       "      <th>2019-03-31</th>\n",
       "      <td>500</td>\n",
       "      <td>673.514021</td>\n",
       "      <td>-173.514021</td>\n",
       "    </tr>\n",
       "    <tr>\n",
       "      <th>2019-06-30</th>\n",
       "      <td>400</td>\n",
       "      <td>633.154177</td>\n",
       "      <td>-233.154177</td>\n",
       "    </tr>\n",
       "    <tr>\n",
       "      <th>2019-09-30</th>\n",
       "      <td>650</td>\n",
       "      <td>532.132175</td>\n",
       "      <td>117.867825</td>\n",
       "    </tr>\n",
       "    <tr>\n",
       "      <th>2019-12-31</th>\n",
       "      <td>850</td>\n",
       "      <td>589.475201</td>\n",
       "      <td>260.524799</td>\n",
       "    </tr>\n",
       "  </tbody>\n",
       "</table>\n",
       "</div>"
      ],
      "text/plain": [
       "            Demand    Forecast    Residual\n",
       "Quarter                                   \n",
       "2018-12-31     750  529.642749  220.357251\n",
       "2019-03-31     500  673.514021 -173.514021\n",
       "2019-06-30     400  633.154177 -233.154177\n",
       "2019-09-30     650  532.132175  117.867825\n",
       "2019-12-31     850  589.475201  260.524799"
      ]
     },
     "execution_count": 23,
     "metadata": {},
     "output_type": "execute_result"
    }
   ],
   "source": [
    "### Check the last time label of the time series.\n",
    "\n",
    "df.tail()"
   ]
  },
  {
   "cell_type": "code",
   "execution_count": 24,
   "id": "677d3bee",
   "metadata": {},
   "outputs": [
    {
     "data": {
      "text/html": [
       "<div>\n",
       "<style scoped>\n",
       "    .dataframe tbody tr th:only-of-type {\n",
       "        vertical-align: middle;\n",
       "    }\n",
       "\n",
       "    .dataframe tbody tr th {\n",
       "        vertical-align: top;\n",
       "    }\n",
       "\n",
       "    .dataframe thead th {\n",
       "        text-align: right;\n",
       "    }\n",
       "</style>\n",
       "<table border=\"1\" class=\"dataframe\">\n",
       "  <thead>\n",
       "    <tr style=\"text-align: right;\">\n",
       "      <th></th>\n",
       "      <th>Forecast</th>\n",
       "    </tr>\n",
       "  </thead>\n",
       "  <tbody>\n",
       "    <tr>\n",
       "      <th>2020-03-31</th>\n",
       "      <td>744.853759</td>\n",
       "    </tr>\n",
       "    <tr>\n",
       "      <th>2020-06-30</th>\n",
       "      <td>796.550620</td>\n",
       "    </tr>\n",
       "    <tr>\n",
       "      <th>2020-09-30</th>\n",
       "      <td>848.247481</td>\n",
       "    </tr>\n",
       "    <tr>\n",
       "      <th>2020-12-31</th>\n",
       "      <td>899.944343</td>\n",
       "    </tr>\n",
       "    <tr>\n",
       "      <th>2021-03-31</th>\n",
       "      <td>951.641204</td>\n",
       "    </tr>\n",
       "    <tr>\n",
       "      <th>2021-06-30</th>\n",
       "      <td>1003.338066</td>\n",
       "    </tr>\n",
       "    <tr>\n",
       "      <th>2021-09-30</th>\n",
       "      <td>1055.034927</td>\n",
       "    </tr>\n",
       "    <tr>\n",
       "      <th>2021-12-31</th>\n",
       "      <td>1106.731788</td>\n",
       "    </tr>\n",
       "  </tbody>\n",
       "</table>\n",
       "</div>"
      ],
      "text/plain": [
       "               Forecast\n",
       "2020-03-31   744.853759\n",
       "2020-06-30   796.550620\n",
       "2020-09-30   848.247481\n",
       "2020-12-31   899.944343\n",
       "2021-03-31   951.641204\n",
       "2021-06-30  1003.338066\n",
       "2021-09-30  1055.034927\n",
       "2021-12-31  1106.731788"
      ]
     },
     "execution_count": 24,
     "metadata": {},
     "output_type": "execute_result"
    }
   ],
   "source": [
    "### Add time labels for the forecasted occasions.\n",
    "### The first date is later than the last time label in the time series.\n",
    "\n",
    "index = pd.date_range('2020-03-31', periods = 8, freq = 'Q')\n",
    "\n",
    "### Predicted values for the following eight quarters.\n",
    "\n",
    "forecasts = model.forecast(8)\n",
    "\n",
    "### Add forecasts to the dataframe:\n",
    "\n",
    "df_forecast = pd.DataFrame(data = forecasts, index = index, columns = ['Forecast'])\n",
    "\n",
    "df_forecast"
   ]
  },
  {
   "cell_type": "code",
   "execution_count": 25,
   "id": "f177e93f",
   "metadata": {},
   "outputs": [
    {
     "data": {
      "text/plain": [
       "<AxesSubplot:xlabel='Quarter'>"
      ]
     },
     "execution_count": 25,
     "metadata": {},
     "output_type": "execute_result"
    },
    {
     "data": {
      "image/png": "[encoded data removed]",
      "text/plain": [
       "<Figure size 432x288 with 1 Axes>"
      ]
     },
     "metadata": {},
     "output_type": "display_data"
    }
   ],
   "source": [
    "### Next add a line chart of the realized observations.\n",
    "\n",
    "df['Demand'].plot()\n",
    "\n",
    "### Add forecasted values to the same coordinate system.\n",
    "\n",
    "df_forecast['Forecast'].plot()"
   ]
  },
  {
   "cell_type": "markdown",
   "id": "eb20096d",
   "metadata": {},
   "source": [
    "### A closer look at the time series"
   ]
  },
  {
   "cell_type": "markdown",
   "id": "672fe515",
   "metadata": {},
   "source": [
    "In order to find a better prediction model study the time series a bit closer and strip the series down into components."
   ]
  },
  {
   "cell_type": "code",
   "execution_count": 15,
   "id": "f1da3b72",
   "metadata": {},
   "outputs": [
    {
     "data": {
      "image/png": "[encoded data removed]",
      "text/plain": [
       "<Figure size 432x288 with 4 Axes>"
      ]
     },
     "execution_count": 15,
     "metadata": {},
     "output_type": "execute_result"
    },
    {
     "data": {
      "image/png": "[encoded data removed]",
      "text/plain": [
       "<Figure size 432x288 with 4 Axes>"
      ]
     },
     "metadata": {},
     "output_type": "display_data"
    }
   ],
   "source": [
    "### Import libraries\n",
    "\n",
    "from statsmodels.tsa.api import seasonal_decompose\n",
    "\n",
    "### Apply the function.\n",
    "\n",
    "seasonal_decompose(df['Demand']).plot()"
   ]
  },
  {
   "cell_type": "markdown",
   "id": "0264047e",
   "metadata": {},
   "source": [
    "There are four charts in the output.\n",
    "\n",
    "- Original time series.\n",
    "- Trend stripped off the time series.\n",
    "- Seasonal variation in the time series.\n",
    "- Whatever is left in the time series after the trend and the periodic variation have been dismantled."
   ]
  },
  {
   "cell_type": "markdown",
   "id": "a7c88c05",
   "metadata": {},
   "source": [
    "There is a noticeable periodic seasonal variation in the time series with quarters of a year periods. Double exponential smoothing ignores this in the forecast model."
   ]
  },
  {
   "cell_type": "markdown",
   "id": "6c1bcc6c",
   "metadata": {},
   "source": [
    "The same phenomenon can be studied using autocorrelation. In context of time series autocorrelation means correlation between the time series and a delayed time series, e.g. correlation between the time series and its values which are four quarters of a year old. For more information, see e.g., https://en.wikipedia.org/wiki/Autocorrelation. "
   ]
  },
  {
   "cell_type": "markdown",
   "id": "8ecf6596",
   "metadata": {},
   "source": [
    "Autocorrelation can be calculated using different delays. This can be done with the function **autocorrelation_plot** of the pandas library."
   ]
  },
  {
   "cell_type": "code",
   "execution_count": 16,
   "id": "5df09140",
   "metadata": {},
   "outputs": [
    {
     "data": {
      "text/plain": [
       "<AxesSubplot:xlabel='Lag', ylabel='Autocorrelation'>"
      ]
     },
     "execution_count": 16,
     "metadata": {},
     "output_type": "execute_result"
    },
    {
     "data": {
      "image/png": "[encoded data removed]",
      "text/plain": [
       "<Figure size 432x288 with 1 Axes>"
      ]
     },
     "metadata": {},
     "output_type": "display_data"
    }
   ],
   "source": [
    "from pandas.plotting import autocorrelation_plot\n",
    "autocorrelation_plot(df['Demand'])"
   ]
  },
  {
   "cell_type": "markdown",
   "id": "264d7fbe",
   "metadata": {},
   "source": [
    "In the horisontal axis there is delay (lag) and in the vertical axis values for the autocorrelation. We see that delay four possesses rather large value of autocorrelation. This indicates that there are four quarters of a year seasonal periods in the time series."
   ]
  },
  {
   "cell_type": "markdown",
   "id": "0f22e395",
   "metadata": {},
   "source": [
    "The dashed lines in the chart represent limits of statistically significant correlation. At delay four correlation is above the dashed line and therefore it is statistically significant."
   ]
  },
  {
   "cell_type": "markdown",
   "id": "6b29ee4b",
   "metadata": {},
   "source": [
    "Source and origin of inspiration:<br /> \n",
    "Aki Taanila: Data-analytiikka Pythonilla: <a href=\"https://tilastoapu.wordpress.com/python/\">https://tilastoapu.wordpress.com/python/</a>"
   ]
  }
 ],
 "metadata": {
  "kernelspec": {
   "display_name": "Python 3",
   "language": "python",
   "name": "python3"
  },
  "language_info": {
   "codemirror_mode": {
    "name": "ipython",
    "version": 3
   },
   "file_extension": ".py",
   "mimetype": "text/x-python",
   "name": "python",
   "nbconvert_exporter": "python",
   "pygments_lexer": "ipython3",
   "version": "3.7.11"
  }
 },
 "nbformat": 4,
 "nbformat_minor": 5
}
