{
 "cells": [
  {
   "cell_type": "markdown",
   "id": "2a83a2f4",
   "metadata": {},
   "source": [
    "# Time series forecasting, part three of three"
   ]
  },
  {
   "cell_type": "markdown",
   "id": "d488d8f0",
   "metadata": {},
   "source": [
    "Models of forecasting using exponential smoothing are common in business, in particular, in forecasting the demand for supplies and corresponding volume of sales. Exponential smoothing models are easy to use, calculation steps are effortlessly overcome and upgrading in case of new data is smooth."
   ]
  },
  {
   "cell_type": "markdown",
   "id": "d8d7285f",
   "metadata": {},
   "source": [
    "When forecasting methods are applied, noticeable trend and seasonal periodic variation in the time series is first examined and the forecasting models is then chosen accordingly."
   ]
  },
  {
   "cell_type": "markdown",
   "id": "48a67f3e",
   "metadata": {},
   "source": [
    "In part one of these notes we considered the case where there is no trend nor periodic variation, and in part two only noticeable trend was taken into account. In this note we concentrate on the case where both trend and periodic seasonal variation is taken into account in the forecast. Such a exponential smoothing forecast model is also called the **Holt-Winter** model."
   ]
  },
  {
   "cell_type": "markdown",
   "id": "38e00592",
   "metadata": {},
   "source": [
    "In the Holt-Winter multiplication model _the level $L$ of the time series at the occasion $t$_ is defined to be\n",
    "\n",
    "$$ L_t = \\alpha \\cdot \\frac{Y_t}{S_{t-s}} + (1-\\alpha) \\cdot (L_{t-1} + T_{t-1})$$"
   ]
  },
  {
   "cell_type": "markdown",
   "id": "a4e132f3",
   "metadata": {},
   "source": [
    "Here $Y_t$ is the latest observation, $S_{t-s}$ is the seasonal variation of the previous corresponding period and $T_{t-1}$ is the previous trend."
   ]
  },
  {
   "cell_type": "markdown",
   "id": "cc5857a7",
   "metadata": {},
   "source": [
    "The _trend $T$ at the occasion $t$_ is given by the formula \n",
    "\n",
    "$$ T_t = \\beta \\cdot (L_t - L_{t-1}) + (1 - \\beta) \\cdot T_{t-1} $$"
   ]
  },
  {
   "cell_type": "markdown",
   "id": "0200f7c2",
   "metadata": {},
   "source": [
    "Seasonal variation $S$ at the occasion $t$ is obtained from \n",
    "\n",
    "$$ S_t = \\gamma \\cdot \\frac{Y_t}{L_t} + (1 - \\gamma) \\cdot S_{t-s}$$"
   ]
  },
  {
   "cell_type": "markdown",
   "id": "c7353d95",
   "metadata": {},
   "source": [
    "The forecast at the occasion $t+p$ is now determined by the formula\n",
    "\n",
    "$$ (L_t + p \\cdot T_t) \\cdot S_{t-s}$$"
   ]
  },
  {
   "cell_type": "markdown",
   "id": "ea434ef3",
   "metadata": {},
   "source": [
    "Above the Holt-Winter multiplication model is applied. There seasonal variation is taken into account using the seasonal variation factor. The Holt-Winter model can also be applied as an addition model in which seasonal variation is taken into account by adding a seasonal variation term. Multiplication model is better suitable to time series where the size of the seasonal variation component follows the level $L$ of the time series. On the other hand, addition model is better suitable in cases the size of the seasonal variation component does not follow the level $L$ of the time series."
   ]
  },
  {
   "cell_type": "markdown",
   "id": "fa9be2a8",
   "metadata": {},
   "source": [
    "The parameters $\\alpha$, $\\beta$ and $\\gamma$ of the model are tried to find so that the mean of the squares of errors of prediction is as small as possible."
   ]
  },
  {
   "cell_type": "markdown",
   "id": "3b31524b",
   "metadata": {},
   "source": [
    "## Using Python with triple exponential smoothing"
   ]
  },
  {
   "cell_type": "markdown",
   "id": "c197a339",
   "metadata": {},
   "source": [
    "Exponential smoothing is found in the **statsmodels.tsa** library."
   ]
  },
  {
   "cell_type": "code",
   "execution_count": 1,
   "id": "0cdf5d3c",
   "metadata": {},
   "outputs": [],
   "source": [
    "### Import the libraries and functions.\n",
    "\n",
    "import pandas as pd\n",
    "import matplotlib.pyplot as plt\n",
    "\n",
    "from statsmodels.tsa.api import seasonal_decompose\n",
    "from statsmodels.tsa.api import ExponentialSmoothing\n",
    "\n",
    "import warnings\n",
    "warnings.filterwarnings('ignore')\n",
    "\n",
    "### Use the following layout\n",
    "\n",
    "plt.style.use('seaborn-whitegrid')"
   ]
  },
  {
   "cell_type": "markdown",
   "id": "5b276280",
   "metadata": {},
   "source": [
    "### Studying the time series"
   ]
  },
  {
   "cell_type": "code",
   "execution_count": 4,
   "id": "4f043954",
   "metadata": {},
   "outputs": [
    {
     "data": {
      "text/html": [
       "<div>\n",
       "<style scoped>\n",
       "    .dataframe tbody tr th:only-of-type {\n",
       "        vertical-align: middle;\n",
       "    }\n",
       "\n",
       "    .dataframe tbody tr th {\n",
       "        vertical-align: top;\n",
       "    }\n",
       "\n",
       "    .dataframe thead th {\n",
       "        text-align: right;\n",
       "    }\n",
       "</style>\n",
       "<table border=\"1\" class=\"dataframe\">\n",
       "  <thead>\n",
       "    <tr style=\"text-align: right;\">\n",
       "      <th></th>\n",
       "      <th>Quarter</th>\n",
       "      <th>Demand</th>\n",
       "    </tr>\n",
       "  </thead>\n",
       "  <tbody>\n",
       "    <tr>\n",
       "      <th>0</th>\n",
       "      <td>2013-12-31</td>\n",
       "      <td>500</td>\n",
       "    </tr>\n",
       "    <tr>\n",
       "      <th>1</th>\n",
       "      <td>2014-03-31</td>\n",
       "      <td>350</td>\n",
       "    </tr>\n",
       "    <tr>\n",
       "      <th>2</th>\n",
       "      <td>2014-06-30</td>\n",
       "      <td>250</td>\n",
       "    </tr>\n",
       "    <tr>\n",
       "      <th>3</th>\n",
       "      <td>2014-09-30</td>\n",
       "      <td>400</td>\n",
       "    </tr>\n",
       "    <tr>\n",
       "      <th>4</th>\n",
       "      <td>2014-12-31</td>\n",
       "      <td>450</td>\n",
       "    </tr>\n",
       "  </tbody>\n",
       "</table>\n",
       "</div>"
      ],
      "text/plain": [
       "     Quarter  Demand\n",
       "0 2013-12-31     500\n",
       "1 2014-03-31     350\n",
       "2 2014-06-30     250\n",
       "3 2014-09-30     400\n",
       "4 2014-12-31     450"
      ]
     },
     "execution_count": 4,
     "metadata": {},
     "output_type": "execute_result"
    }
   ],
   "source": [
    "### Open the data in a dataframe.\n",
    "\n",
    "df = pd.read_excel('http://myy.haaga-helia.fi/~menetelmat/Data-analytiikka/Teaching/time_series.xlsx')\n",
    "\n",
    "df.head()"
   ]
  },
  {
   "cell_type": "code",
   "execution_count": 5,
   "id": "109dc0d4",
   "metadata": {},
   "outputs": [
    {
     "data": {
      "text/html": [
       "<div>\n",
       "<style scoped>\n",
       "    .dataframe tbody tr th:only-of-type {\n",
       "        vertical-align: middle;\n",
       "    }\n",
       "\n",
       "    .dataframe tbody tr th {\n",
       "        vertical-align: top;\n",
       "    }\n",
       "\n",
       "    .dataframe thead th {\n",
       "        text-align: right;\n",
       "    }\n",
       "</style>\n",
       "<table border=\"1\" class=\"dataframe\">\n",
       "  <thead>\n",
       "    <tr style=\"text-align: right;\">\n",
       "      <th></th>\n",
       "      <th>Demand</th>\n",
       "    </tr>\n",
       "    <tr>\n",
       "      <th>Quarter</th>\n",
       "      <th></th>\n",
       "    </tr>\n",
       "  </thead>\n",
       "  <tbody>\n",
       "    <tr>\n",
       "      <th>2013-12-31</th>\n",
       "      <td>500</td>\n",
       "    </tr>\n",
       "    <tr>\n",
       "      <th>2014-03-31</th>\n",
       "      <td>350</td>\n",
       "    </tr>\n",
       "    <tr>\n",
       "      <th>2014-06-30</th>\n",
       "      <td>250</td>\n",
       "    </tr>\n",
       "    <tr>\n",
       "      <th>2014-09-30</th>\n",
       "      <td>400</td>\n",
       "    </tr>\n",
       "    <tr>\n",
       "      <th>2014-12-31</th>\n",
       "      <td>450</td>\n",
       "    </tr>\n",
       "  </tbody>\n",
       "</table>\n",
       "</div>"
      ],
      "text/plain": [
       "            Demand\n",
       "Quarter           \n",
       "2013-12-31     500\n",
       "2014-03-31     350\n",
       "2014-06-30     250\n",
       "2014-09-30     400\n",
       "2014-12-31     450"
      ]
     },
     "execution_count": 5,
     "metadata": {},
     "output_type": "execute_result"
    }
   ],
   "source": [
    "### Add time labels to the index of the dataframe.\n",
    "### The function to_datetime transforms appropriate strings to Python's time labels.\n",
    "### The parameter format permits recognizing different representations as time labels.\n",
    "\n",
    "df.index = pd.to_datetime(df['Quarter'], format = \"%Y-%m-%d\")\n",
    "\n",
    "### Leave out the unnecessary column.\n",
    "\n",
    "df = df.drop('Quarter', axis = 1)\n",
    "df.head()"
   ]
  },
  {
   "cell_type": "code",
   "execution_count": 6,
   "id": "071b44f9",
   "metadata": {},
   "outputs": [
    {
     "data": {
      "text/plain": [
       "<AxesSubplot:xlabel='Quarter'>"
      ]
     },
     "execution_count": 6,
     "metadata": {},
     "output_type": "execute_result"
    },
    {
     "data": {
      "image/png": "[encoded data removed]",
      "text/plain": [
       "<Figure size 432x288 with 1 Axes>"
      ]
     },
     "metadata": {},
     "output_type": "display_data"
    }
   ],
   "source": [
    "### View the graphical representation of the data.\n",
    "\n",
    "df.plot()"
   ]
  },
  {
   "cell_type": "code",
   "execution_count": 7,
   "id": "feb574c0",
   "metadata": {},
   "outputs": [
    {
     "data": {
      "image/png": "[encoded data removed]",
      "text/plain": [
       "<Figure size 432x288 with 4 Axes>"
      ]
     },
     "metadata": {},
     "output_type": "display_data"
    }
   ],
   "source": [
    "### Separate different components causing variation in the time series.\n",
    "### Here observed is the original time series, trend is the trend in the series,\n",
    "### seasonal is the seasonal variation of the time series,\n",
    "### residual is other variation than the ones related to trend or seasonal.\n",
    "\n",
    "decompose = seasonal_decompose(df['Demand']).plot()"
   ]
  },
  {
   "cell_type": "markdown",
   "id": "ff1ddf88",
   "metadata": {},
   "source": [
    "In this time series there are a noticeable trend and seasonal variation. The data is given in three months intervals and the seasonal variation appears in periods of four observations (quarters of a year)."
   ]
  },
  {
   "cell_type": "markdown",
   "id": "ad54b07c",
   "metadata": {},
   "source": [
    "### Fitting the model"
   ]
  },
  {
   "cell_type": "markdown",
   "id": "56fb7a01",
   "metadata": {},
   "source": [
    "Forecast model is fit (**fit()**) for the data. As a result we'll have an object (in the following named as **model**) which contains diverse information about the model."
   ]
  },
  {
   "cell_type": "markdown",
   "id": "74109634",
   "metadata": {},
   "source": [
    "For the trend (below **trend**) addition model is used (below **add**). In that case trend is a term added to the time series. This is recommended here."
   ]
  },
  {
   "cell_type": "markdown",
   "id": "9506043d",
   "metadata": {},
   "source": [
    "For the seasonal variation (below **seasonal**) addition model (choice **add**) or multiplication model (choice **mul**) can be used. In multiplication models corresponding factors are used. The reader is encouraged to try both models and become convinced that the used multiplication model turns out to be better. "
   ]
  },
  {
   "cell_type": "markdown",
   "id": "2088b664",
   "metadata": {},
   "source": [
    "For the parameter **seasonal_periods** value four is used as seasonal variation appears in periods of four quarters of a year."
   ]
  },
  {
   "cell_type": "markdown",
   "id": "6817ba0e",
   "metadata": {},
   "source": [
    "For the parameter **freq** value **'Q'** is used. This is because the data is listed by last days of quarters of a year. More possible values for this parameter can be found at https://pandas.pydata.org/pandas-docs/stable/user_guide/timeseries.html#offset-aliases."
   ]
  },
  {
   "cell_type": "code",
   "execution_count": 9,
   "id": "201c2df1",
   "metadata": {},
   "outputs": [],
   "source": [
    "### Fitting the triple exponential smoothing model into the object named model.\n",
    "### Addition model is used for trend and multiplication model for seasonal variation in this example.\n",
    "\n",
    "model = ExponentialSmoothing(df['Demand'], trend = 'add', seasonal = 'mul',\n",
    "                             seasonal_periods = 4, freq = 'Q').fit()"
   ]
  },
  {
   "cell_type": "code",
   "execution_count": 10,
   "id": "498a9af2",
   "metadata": {},
   "outputs": [
    {
     "data": {
      "text/html": [
       "<div>\n",
       "<style scoped>\n",
       "    .dataframe tbody tr th:only-of-type {\n",
       "        vertical-align: middle;\n",
       "    }\n",
       "\n",
       "    .dataframe tbody tr th {\n",
       "        vertical-align: top;\n",
       "    }\n",
       "\n",
       "    .dataframe thead th {\n",
       "        text-align: right;\n",
       "    }\n",
       "</style>\n",
       "<table border=\"1\" class=\"dataframe\">\n",
       "  <thead>\n",
       "    <tr style=\"text-align: right;\">\n",
       "      <th></th>\n",
       "      <th>Demand</th>\n",
       "      <th>Forecast</th>\n",
       "    </tr>\n",
       "    <tr>\n",
       "      <th>Quarter</th>\n",
       "      <th></th>\n",
       "      <th></th>\n",
       "    </tr>\n",
       "  </thead>\n",
       "  <tbody>\n",
       "    <tr>\n",
       "      <th>2013-12-31</th>\n",
       "      <td>500</td>\n",
       "      <td>500.233428</td>\n",
       "    </tr>\n",
       "    <tr>\n",
       "      <th>2014-03-31</th>\n",
       "      <td>350</td>\n",
       "      <td>343.348626</td>\n",
       "    </tr>\n",
       "    <tr>\n",
       "      <th>2014-06-30</th>\n",
       "      <td>250</td>\n",
       "      <td>264.968947</td>\n",
       "    </tr>\n",
       "    <tr>\n",
       "      <th>2014-09-30</th>\n",
       "      <td>400</td>\n",
       "      <td>447.008075</td>\n",
       "    </tr>\n",
       "    <tr>\n",
       "      <th>2014-12-31</th>\n",
       "      <td>450</td>\n",
       "      <td>497.144440</td>\n",
       "    </tr>\n",
       "    <tr>\n",
       "      <th>2015-03-31</th>\n",
       "      <td>350</td>\n",
       "      <td>314.179496</td>\n",
       "    </tr>\n",
       "    <tr>\n",
       "      <th>2015-06-30</th>\n",
       "      <td>200</td>\n",
       "      <td>262.120076</td>\n",
       "    </tr>\n",
       "    <tr>\n",
       "      <th>2015-09-30</th>\n",
       "      <td>300</td>\n",
       "      <td>371.652191</td>\n",
       "    </tr>\n",
       "    <tr>\n",
       "      <th>2015-12-31</th>\n",
       "      <td>350</td>\n",
       "      <td>382.469106</td>\n",
       "    </tr>\n",
       "    <tr>\n",
       "      <th>2016-03-31</th>\n",
       "      <td>200</td>\n",
       "      <td>246.305387</td>\n",
       "    </tr>\n",
       "    <tr>\n",
       "      <th>2016-06-30</th>\n",
       "      <td>150</td>\n",
       "      <td>159.574351</td>\n",
       "    </tr>\n",
       "    <tr>\n",
       "      <th>2016-09-30</th>\n",
       "      <td>400</td>\n",
       "      <td>273.614465</td>\n",
       "    </tr>\n",
       "    <tr>\n",
       "      <th>2016-12-31</th>\n",
       "      <td>550</td>\n",
       "      <td>469.954861</td>\n",
       "    </tr>\n",
       "    <tr>\n",
       "      <th>2017-03-31</th>\n",
       "      <td>350</td>\n",
       "      <td>369.544478</td>\n",
       "    </tr>\n",
       "    <tr>\n",
       "      <th>2017-06-30</th>\n",
       "      <td>250</td>\n",
       "      <td>267.495983</td>\n",
       "    </tr>\n",
       "    <tr>\n",
       "      <th>2017-09-30</th>\n",
       "      <td>550</td>\n",
       "      <td>447.553992</td>\n",
       "    </tr>\n",
       "    <tr>\n",
       "      <th>2017-12-31</th>\n",
       "      <td>550</td>\n",
       "      <td>651.466581</td>\n",
       "    </tr>\n",
       "    <tr>\n",
       "      <th>2018-03-31</th>\n",
       "      <td>400</td>\n",
       "      <td>385.503447</td>\n",
       "    </tr>\n",
       "    <tr>\n",
       "      <th>2018-06-30</th>\n",
       "      <td>350</td>\n",
       "      <td>301.018045</td>\n",
       "    </tr>\n",
       "    <tr>\n",
       "      <th>2018-09-30</th>\n",
       "      <td>600</td>\n",
       "      <td>604.567048</td>\n",
       "    </tr>\n",
       "    <tr>\n",
       "      <th>2018-12-31</th>\n",
       "      <td>750</td>\n",
       "      <td>727.465971</td>\n",
       "    </tr>\n",
       "    <tr>\n",
       "      <th>2019-03-31</th>\n",
       "      <td>500</td>\n",
       "      <td>507.735170</td>\n",
       "    </tr>\n",
       "    <tr>\n",
       "      <th>2019-06-30</th>\n",
       "      <td>400</td>\n",
       "      <td>376.867471</td>\n",
       "    </tr>\n",
       "    <tr>\n",
       "      <th>2019-09-30</th>\n",
       "      <td>650</td>\n",
       "      <td>696.505144</td>\n",
       "    </tr>\n",
       "    <tr>\n",
       "      <th>2019-12-31</th>\n",
       "      <td>850</td>\n",
       "      <td>793.281338</td>\n",
       "    </tr>\n",
       "  </tbody>\n",
       "</table>\n",
       "</div>"
      ],
      "text/plain": [
       "            Demand    Forecast\n",
       "Quarter                       \n",
       "2013-12-31     500  500.233428\n",
       "2014-03-31     350  343.348626\n",
       "2014-06-30     250  264.968947\n",
       "2014-09-30     400  447.008075\n",
       "2014-12-31     450  497.144440\n",
       "2015-03-31     350  314.179496\n",
       "2015-06-30     200  262.120076\n",
       "2015-09-30     300  371.652191\n",
       "2015-12-31     350  382.469106\n",
       "2016-03-31     200  246.305387\n",
       "2016-06-30     150  159.574351\n",
       "2016-09-30     400  273.614465\n",
       "2016-12-31     550  469.954861\n",
       "2017-03-31     350  369.544478\n",
       "2017-06-30     250  267.495983\n",
       "2017-09-30     550  447.553992\n",
       "2017-12-31     550  651.466581\n",
       "2018-03-31     400  385.503447\n",
       "2018-06-30     350  301.018045\n",
       "2018-09-30     600  604.567048\n",
       "2018-12-31     750  727.465971\n",
       "2019-03-31     500  507.735170\n",
       "2019-06-30     400  376.867471\n",
       "2019-09-30     650  696.505144\n",
       "2019-12-31     850  793.281338"
      ]
     },
     "execution_count": 10,
     "metadata": {},
     "output_type": "execute_result"
    }
   ],
   "source": [
    "### The object named model gives us simulated forecasts according to the model (fittedvalues) for the already realized occasions.\n",
    "\n",
    "df['Forecast'] = model.fittedvalues\n",
    "\n",
    "df"
   ]
  },
  {
   "cell_type": "code",
   "execution_count": 11,
   "id": "29a7d102",
   "metadata": {},
   "outputs": [
    {
     "data": {
      "text/plain": [
       "<AxesSubplot:xlabel='Quarter'>"
      ]
     },
     "execution_count": 11,
     "metadata": {},
     "output_type": "execute_result"
    },
    {
     "data": {
      "image/png": "[encoded data removed]",
      "text/plain": [
       "<Figure size 432x288 with 1 Axes>"
      ]
     },
     "metadata": {},
     "output_type": "display_data"
    }
   ],
   "source": [
    "### Compare the original time series and predictions according to the model in a same coordinate system.\n",
    "\n",
    "df.plot()"
   ]
  },
  {
   "cell_type": "code",
   "execution_count": 12,
   "id": "61c502c4",
   "metadata": {},
   "outputs": [
    {
     "data": {
      "text/html": [
       "<div>\n",
       "<style scoped>\n",
       "    .dataframe tbody tr th:only-of-type {\n",
       "        vertical-align: middle;\n",
       "    }\n",
       "\n",
       "    .dataframe tbody tr th {\n",
       "        vertical-align: top;\n",
       "    }\n",
       "\n",
       "    .dataframe thead th {\n",
       "        text-align: right;\n",
       "    }\n",
       "</style>\n",
       "<table border=\"1\" class=\"dataframe\">\n",
       "  <thead>\n",
       "    <tr style=\"text-align: right;\">\n",
       "      <th></th>\n",
       "      <th>Demand</th>\n",
       "      <th>Forecast</th>\n",
       "      <th>Residual</th>\n",
       "    </tr>\n",
       "    <tr>\n",
       "      <th>Quarter</th>\n",
       "      <th></th>\n",
       "      <th></th>\n",
       "      <th></th>\n",
       "    </tr>\n",
       "  </thead>\n",
       "  <tbody>\n",
       "    <tr>\n",
       "      <th>2013-12-31</th>\n",
       "      <td>500</td>\n",
       "      <td>500.233428</td>\n",
       "      <td>-0.233428</td>\n",
       "    </tr>\n",
       "    <tr>\n",
       "      <th>2014-03-31</th>\n",
       "      <td>350</td>\n",
       "      <td>343.348626</td>\n",
       "      <td>6.651374</td>\n",
       "    </tr>\n",
       "    <tr>\n",
       "      <th>2014-06-30</th>\n",
       "      <td>250</td>\n",
       "      <td>264.968947</td>\n",
       "      <td>-14.968947</td>\n",
       "    </tr>\n",
       "    <tr>\n",
       "      <th>2014-09-30</th>\n",
       "      <td>400</td>\n",
       "      <td>447.008075</td>\n",
       "      <td>-47.008075</td>\n",
       "    </tr>\n",
       "    <tr>\n",
       "      <th>2014-12-31</th>\n",
       "      <td>450</td>\n",
       "      <td>497.144440</td>\n",
       "      <td>-47.144440</td>\n",
       "    </tr>\n",
       "    <tr>\n",
       "      <th>2015-03-31</th>\n",
       "      <td>350</td>\n",
       "      <td>314.179496</td>\n",
       "      <td>35.820504</td>\n",
       "    </tr>\n",
       "    <tr>\n",
       "      <th>2015-06-30</th>\n",
       "      <td>200</td>\n",
       "      <td>262.120076</td>\n",
       "      <td>-62.120076</td>\n",
       "    </tr>\n",
       "    <tr>\n",
       "      <th>2015-09-30</th>\n",
       "      <td>300</td>\n",
       "      <td>371.652191</td>\n",
       "      <td>-71.652191</td>\n",
       "    </tr>\n",
       "    <tr>\n",
       "      <th>2015-12-31</th>\n",
       "      <td>350</td>\n",
       "      <td>382.469106</td>\n",
       "      <td>-32.469106</td>\n",
       "    </tr>\n",
       "    <tr>\n",
       "      <th>2016-03-31</th>\n",
       "      <td>200</td>\n",
       "      <td>246.305387</td>\n",
       "      <td>-46.305387</td>\n",
       "    </tr>\n",
       "    <tr>\n",
       "      <th>2016-06-30</th>\n",
       "      <td>150</td>\n",
       "      <td>159.574351</td>\n",
       "      <td>-9.574351</td>\n",
       "    </tr>\n",
       "    <tr>\n",
       "      <th>2016-09-30</th>\n",
       "      <td>400</td>\n",
       "      <td>273.614465</td>\n",
       "      <td>126.385535</td>\n",
       "    </tr>\n",
       "    <tr>\n",
       "      <th>2016-12-31</th>\n",
       "      <td>550</td>\n",
       "      <td>469.954861</td>\n",
       "      <td>80.045139</td>\n",
       "    </tr>\n",
       "    <tr>\n",
       "      <th>2017-03-31</th>\n",
       "      <td>350</td>\n",
       "      <td>369.544478</td>\n",
       "      <td>-19.544478</td>\n",
       "    </tr>\n",
       "    <tr>\n",
       "      <th>2017-06-30</th>\n",
       "      <td>250</td>\n",
       "      <td>267.495983</td>\n",
       "      <td>-17.495983</td>\n",
       "    </tr>\n",
       "    <tr>\n",
       "      <th>2017-09-30</th>\n",
       "      <td>550</td>\n",
       "      <td>447.553992</td>\n",
       "      <td>102.446008</td>\n",
       "    </tr>\n",
       "    <tr>\n",
       "      <th>2017-12-31</th>\n",
       "      <td>550</td>\n",
       "      <td>651.466581</td>\n",
       "      <td>-101.466581</td>\n",
       "    </tr>\n",
       "    <tr>\n",
       "      <th>2018-03-31</th>\n",
       "      <td>400</td>\n",
       "      <td>385.503447</td>\n",
       "      <td>14.496553</td>\n",
       "    </tr>\n",
       "    <tr>\n",
       "      <th>2018-06-30</th>\n",
       "      <td>350</td>\n",
       "      <td>301.018045</td>\n",
       "      <td>48.981955</td>\n",
       "    </tr>\n",
       "    <tr>\n",
       "      <th>2018-09-30</th>\n",
       "      <td>600</td>\n",
       "      <td>604.567048</td>\n",
       "      <td>-4.567048</td>\n",
       "    </tr>\n",
       "    <tr>\n",
       "      <th>2018-12-31</th>\n",
       "      <td>750</td>\n",
       "      <td>727.465971</td>\n",
       "      <td>22.534029</td>\n",
       "    </tr>\n",
       "    <tr>\n",
       "      <th>2019-03-31</th>\n",
       "      <td>500</td>\n",
       "      <td>507.735170</td>\n",
       "      <td>-7.735170</td>\n",
       "    </tr>\n",
       "    <tr>\n",
       "      <th>2019-06-30</th>\n",
       "      <td>400</td>\n",
       "      <td>376.867471</td>\n",
       "      <td>23.132529</td>\n",
       "    </tr>\n",
       "    <tr>\n",
       "      <th>2019-09-30</th>\n",
       "      <td>650</td>\n",
       "      <td>696.505144</td>\n",
       "      <td>-46.505144</td>\n",
       "    </tr>\n",
       "    <tr>\n",
       "      <th>2019-12-31</th>\n",
       "      <td>850</td>\n",
       "      <td>793.281338</td>\n",
       "      <td>56.718662</td>\n",
       "    </tr>\n",
       "  </tbody>\n",
       "</table>\n",
       "</div>"
      ],
      "text/plain": [
       "            Demand    Forecast    Residual\n",
       "Quarter                                   \n",
       "2013-12-31     500  500.233428   -0.233428\n",
       "2014-03-31     350  343.348626    6.651374\n",
       "2014-06-30     250  264.968947  -14.968947\n",
       "2014-09-30     400  447.008075  -47.008075\n",
       "2014-12-31     450  497.144440  -47.144440\n",
       "2015-03-31     350  314.179496   35.820504\n",
       "2015-06-30     200  262.120076  -62.120076\n",
       "2015-09-30     300  371.652191  -71.652191\n",
       "2015-12-31     350  382.469106  -32.469106\n",
       "2016-03-31     200  246.305387  -46.305387\n",
       "2016-06-30     150  159.574351   -9.574351\n",
       "2016-09-30     400  273.614465  126.385535\n",
       "2016-12-31     550  469.954861   80.045139\n",
       "2017-03-31     350  369.544478  -19.544478\n",
       "2017-06-30     250  267.495983  -17.495983\n",
       "2017-09-30     550  447.553992  102.446008\n",
       "2017-12-31     550  651.466581 -101.466581\n",
       "2018-03-31     400  385.503447   14.496553\n",
       "2018-06-30     350  301.018045   48.981955\n",
       "2018-09-30     600  604.567048   -4.567048\n",
       "2018-12-31     750  727.465971   22.534029\n",
       "2019-03-31     500  507.735170   -7.735170\n",
       "2019-06-30     400  376.867471   23.132529\n",
       "2019-09-30     650  696.505144  -46.505144\n",
       "2019-12-31     850  793.281338   56.718662"
      ]
     },
     "execution_count": 12,
     "metadata": {},
     "output_type": "execute_result"
    }
   ],
   "source": [
    "### Errors of the prediction (residuals) are found in the the object named model.\n",
    "\n",
    "df['Residual'] = model.resid\n",
    "\n",
    "df"
   ]
  },
  {
   "cell_type": "markdown",
   "id": "b9149ceb",
   "metadata": {},
   "source": [
    "### Studying the model"
   ]
  },
  {
   "cell_type": "markdown",
   "id": "816308c3",
   "metadata": {},
   "source": [
    "There are several ways to estimate how good the prediction model is. In this note we consider\n",
    "\n",
    "- line chart of time series for errors of forecast\n",
    "- scatter chart of forecasted values and values of realized observations\n",
    "- model statistics which is obtained by the function **summary()**."
   ]
  },
  {
   "cell_type": "markdown",
   "id": "8787b7cb",
   "metadata": {},
   "source": [
    "In particular, when estimating the model, the SSE, sum of squared errors, should be considered. In the modeling the SSE is tried to be minimized."
   ]
  },
  {
   "cell_type": "code",
   "execution_count": 13,
   "id": "bfd3807e",
   "metadata": {},
   "outputs": [
    {
     "data": {
      "text/plain": [
       "Text(0, 0.5, 'Error of prediction')"
      ]
     },
     "execution_count": 13,
     "metadata": {},
     "output_type": "execute_result"
    },
    {
     "data": {
      "image/png": "[encoded data removed]",
      "text/plain": [
       "<Figure size 432x288 with 1 Axes>"
      ]
     },
     "metadata": {},
     "output_type": "display_data"
    }
   ],
   "source": [
    "### Draw the errors of forecast as line chart.\n",
    "### Ideally time series of errors of prediction is random.\n",
    "\n",
    "df['Residual'].plot()\n",
    "plt.ylabel('Error of prediction')"
   ]
  },
  {
   "cell_type": "code",
   "execution_count": 14,
   "id": "4bc526c9",
   "metadata": {},
   "outputs": [
    {
     "data": {
      "text/plain": [
       "Text(0, 0.5, 'Realized demand')"
      ]
     },
     "execution_count": 14,
     "metadata": {},
     "output_type": "execute_result"
    },
    {
     "data": {
      "image/png": "[encoded data removed]",
      "text/plain": [
       "<Figure size 432x288 with 1 Axes>"
      ]
     },
     "metadata": {},
     "output_type": "display_data"
    }
   ],
   "source": [
    "### Draw the scatter chart of the predicted and realized demands.\n",
    "### The closer the dots follow a straight line from the lower left corner to the top right corner the better the prediction model is.\n",
    "\n",
    "plt.scatter(x = df['Forecast'], y = df['Demand'])\n",
    "\n",
    "plt.xlabel('Forecast')\n",
    "plt.ylabel('Realized demand')"
   ]
  },
  {
   "cell_type": "code",
   "execution_count": 16,
   "id": "a147cdcf",
   "metadata": {},
   "outputs": [
    {
     "data": {
      "text/html": [
       "<table class=\"simpletable\">\n",
       "<caption>ExponentialSmoothing Model Results</caption>\n",
       "<tr>\n",
       "  <th>Dep. Variable:</th>           <td>Demand</td>        <th>  No. Observations:  </th>        <td>25</td>       \n",
       "</tr>\n",
       "<tr>\n",
       "  <th>Model:</th>            <td>ExponentialSmoothing</td> <th>  SSE                </th>     <td>71238.850</td>   \n",
       "</tr>\n",
       "<tr>\n",
       "  <th>Optimized:</th>                <td>True</td>         <th>  AIC                </th>      <td>214.873</td>    \n",
       "</tr>\n",
       "<tr>\n",
       "  <th>Trend:</th>                  <td>Additive</td>       <th>  BIC                </th>      <td>224.624</td>    \n",
       "</tr>\n",
       "<tr>\n",
       "  <th>Seasonal:</th>            <td>Multiplicative</td>    <th>  AICC               </th>      <td>230.587</td>    \n",
       "</tr>\n",
       "<tr>\n",
       "  <th>Seasonal Periods:</th>           <td>4</td>          <th>  Date:              </th> <td>Thu, 21 Oct 2021</td>\n",
       "</tr>\n",
       "<tr>\n",
       "  <th>Box-Cox:</th>                  <td>False</td>        <th>  Time:              </th>     <td>20:15:12</td>    \n",
       "</tr>\n",
       "<tr>\n",
       "  <th>Box-Cox Coeff.:</th>           <td>None</td>         <th>                     </th>         <td> </td>       \n",
       "</tr>\n",
       "</table>\n",
       "<table class=\"simpletable\">\n",
       "<tr>\n",
       "           <td></td>                  <th>coeff</th>                <th>code</th>               <th>optimized</th>     \n",
       "</tr>\n",
       "<tr>\n",
       "  <th>smoothing_level</th>    <td>           0.8678296</td> <td>               alpha</td> <td>                True</td>\n",
       "</tr>\n",
       "<tr>\n",
       "  <th>smoothing_trend</th>    <td>           0.0002318</td> <td>                beta</td> <td>                True</td>\n",
       "</tr>\n",
       "<tr>\n",
       "  <th>smoothing_seasonal</th> <td>          3.5277e-05</td> <td>               gamma</td> <td>                True</td>\n",
       "</tr>\n",
       "<tr>\n",
       "  <th>initial_level</th>      <td>           480.49803</td> <td>                 l.0</td> <td>                True</td>\n",
       "</tr>\n",
       "<tr>\n",
       "  <th>initial_trend</th>      <td>           15.694665</td> <td>                 b.0</td> <td>                True</td>\n",
       "</tr>\n",
       "<tr>\n",
       "  <th>initial_seasons.0</th>  <td>           1.0081435</td> <td>                 s.0</td> <td>                True</td>\n",
       "</tr>\n",
       "<tr>\n",
       "  <th>initial_seasons.1</th>  <td>           0.6710138</td> <td>                 s.1</td> <td>                True</td>\n",
       "</tr>\n",
       "<tr>\n",
       "  <th>initial_seasons.2</th>  <td>           0.4943586</td> <td>                 s.2</td> <td>                True</td>\n",
       "</tr>\n",
       "<tr>\n",
       "  <th>initial_seasons.3</th>  <td>           0.8507984</td> <td>                 s.3</td> <td>                True</td>\n",
       "</tr>\n",
       "</table>"
      ],
      "text/plain": [
       "<class 'statsmodels.iolib.summary.Summary'>\n",
       "\"\"\"\n",
       "                       ExponentialSmoothing Model Results                       \n",
       "================================================================================\n",
       "Dep. Variable:                   Demand   No. Observations:                   25\n",
       "Model:             ExponentialSmoothing   SSE                          71238.850\n",
       "Optimized:                         True   AIC                            214.873\n",
       "Trend:                         Additive   BIC                            224.624\n",
       "Seasonal:                Multiplicative   AICC                           230.587\n",
       "Seasonal Periods:                     4   Date:                 Thu, 21 Oct 2021\n",
       "Box-Cox:                          False   Time:                         20:15:12\n",
       "Box-Cox Coeff.:                    None                                         \n",
       "=================================================================================\n",
       "                          coeff                 code              optimized      \n",
       "---------------------------------------------------------------------------------\n",
       "smoothing_level               0.8678296                alpha                 True\n",
       "smoothing_trend               0.0002318                 beta                 True\n",
       "smoothing_seasonal           3.5277e-05                gamma                 True\n",
       "initial_level                 480.49803                  l.0                 True\n",
       "initial_trend                 15.694665                  b.0                 True\n",
       "initial_seasons.0             1.0081435                  s.0                 True\n",
       "initial_seasons.1             0.6710138                  s.1                 True\n",
       "initial_seasons.2             0.4943586                  s.2                 True\n",
       "initial_seasons.3             0.8507984                  s.3                 True\n",
       "---------------------------------------------------------------------------------\n",
       "\"\"\""
      ]
     },
     "execution_count": 16,
     "metadata": {},
     "output_type": "execute_result"
    }
   ],
   "source": [
    "### Statistics for the model\n",
    "\n",
    "model.summary()"
   ]
  },
  {
   "cell_type": "markdown",
   "id": "24cda107",
   "metadata": {},
   "source": [
    "### Calculating the forecasts"
   ]
  },
  {
   "cell_type": "markdown",
   "id": "f720d35c",
   "metadata": {},
   "source": [
    "In order to determine time labels for the predictions\n",
    "\n",
    "- The first time label of the forecasted occasions has to be the next time label after the time series.\n",
    "- The number of the predicted occasions can be determined using the parameter **periods**.\n",
    "- The frequency of the predicted occasions has to be the same as the value used for the parameter **freq** in fitting the model."
   ]
  },
  {
   "cell_type": "markdown",
   "id": "5934b4a6",
   "metadata": {},
   "source": [
    "Further information of possible values for the parameter **freq** can be found at https://pandas.pydata.org/pandas-docs/stable/user_guide/timeseries.html#offset-aliases."
   ]
  },
  {
   "cell_type": "code",
   "execution_count": 17,
   "id": "468d4a36",
   "metadata": {},
   "outputs": [
    {
     "data": {
      "text/html": [
       "<div>\n",
       "<style scoped>\n",
       "    .dataframe tbody tr th:only-of-type {\n",
       "        vertical-align: middle;\n",
       "    }\n",
       "\n",
       "    .dataframe tbody tr th {\n",
       "        vertical-align: top;\n",
       "    }\n",
       "\n",
       "    .dataframe thead th {\n",
       "        text-align: right;\n",
       "    }\n",
       "</style>\n",
       "<table border=\"1\" class=\"dataframe\">\n",
       "  <thead>\n",
       "    <tr style=\"text-align: right;\">\n",
       "      <th></th>\n",
       "      <th>Demand</th>\n",
       "      <th>Forecast</th>\n",
       "      <th>Residual</th>\n",
       "    </tr>\n",
       "    <tr>\n",
       "      <th>Quarter</th>\n",
       "      <th></th>\n",
       "      <th></th>\n",
       "      <th></th>\n",
       "    </tr>\n",
       "  </thead>\n",
       "  <tbody>\n",
       "    <tr>\n",
       "      <th>2018-12-31</th>\n",
       "      <td>750</td>\n",
       "      <td>727.465971</td>\n",
       "      <td>22.534029</td>\n",
       "    </tr>\n",
       "    <tr>\n",
       "      <th>2019-03-31</th>\n",
       "      <td>500</td>\n",
       "      <td>507.735170</td>\n",
       "      <td>-7.735170</td>\n",
       "    </tr>\n",
       "    <tr>\n",
       "      <th>2019-06-30</th>\n",
       "      <td>400</td>\n",
       "      <td>376.867471</td>\n",
       "      <td>23.132529</td>\n",
       "    </tr>\n",
       "    <tr>\n",
       "      <th>2019-09-30</th>\n",
       "      <td>650</td>\n",
       "      <td>696.505144</td>\n",
       "      <td>-46.505144</td>\n",
       "    </tr>\n",
       "    <tr>\n",
       "      <th>2019-12-31</th>\n",
       "      <td>850</td>\n",
       "      <td>793.281338</td>\n",
       "      <td>56.718662</td>\n",
       "    </tr>\n",
       "  </tbody>\n",
       "</table>\n",
       "</div>"
      ],
      "text/plain": [
       "            Demand    Forecast   Residual\n",
       "Quarter                                  \n",
       "2018-12-31     750  727.465971  22.534029\n",
       "2019-03-31     500  507.735170  -7.735170\n",
       "2019-06-30     400  376.867471  23.132529\n",
       "2019-09-30     650  696.505144 -46.505144\n",
       "2019-12-31     850  793.281338  56.718662"
      ]
     },
     "execution_count": 17,
     "metadata": {},
     "output_type": "execute_result"
    }
   ],
   "source": [
    "### Check the last time label of the time series.\n",
    "\n",
    "df.tail()"
   ]
  },
  {
   "cell_type": "code",
   "execution_count": 18,
   "id": "f2997953",
   "metadata": {},
   "outputs": [
    {
     "data": {
      "text/html": [
       "<div>\n",
       "<style scoped>\n",
       "    .dataframe tbody tr th:only-of-type {\n",
       "        vertical-align: middle;\n",
       "    }\n",
       "\n",
       "    .dataframe tbody tr th {\n",
       "        vertical-align: top;\n",
       "    }\n",
       "\n",
       "    .dataframe thead th {\n",
       "        text-align: right;\n",
       "    }\n",
       "</style>\n",
       "<table border=\"1\" class=\"dataframe\">\n",
       "  <thead>\n",
       "    <tr style=\"text-align: right;\">\n",
       "      <th></th>\n",
       "      <th>Forecast</th>\n",
       "    </tr>\n",
       "  </thead>\n",
       "  <tbody>\n",
       "    <tr>\n",
       "      <th>2020-03-31</th>\n",
       "      <td>571.291514</td>\n",
       "    </tr>\n",
       "    <tr>\n",
       "      <th>2020-06-30</th>\n",
       "      <td>428.642765</td>\n",
       "    </tr>\n",
       "    <tr>\n",
       "      <th>2020-09-30</th>\n",
       "      <td>751.059797</td>\n",
       "    </tr>\n",
       "    <tr>\n",
       "      <th>2020-12-31</th>\n",
       "      <td>905.759037</td>\n",
       "    </tr>\n",
       "    <tr>\n",
       "      <th>2021-03-31</th>\n",
       "      <td>613.394087</td>\n",
       "    </tr>\n",
       "    <tr>\n",
       "      <th>2021-06-30</th>\n",
       "      <td>459.661037</td>\n",
       "    </tr>\n",
       "    <tr>\n",
       "      <th>2021-09-30</th>\n",
       "      <td>804.443664</td>\n",
       "    </tr>\n",
       "    <tr>\n",
       "      <th>2021-12-31</th>\n",
       "      <td>969.014604</td>\n",
       "    </tr>\n",
       "  </tbody>\n",
       "</table>\n",
       "</div>"
      ],
      "text/plain": [
       "              Forecast\n",
       "2020-03-31  571.291514\n",
       "2020-06-30  428.642765\n",
       "2020-09-30  751.059797\n",
       "2020-12-31  905.759037\n",
       "2021-03-31  613.394087\n",
       "2021-06-30  459.661037\n",
       "2021-09-30  804.443664\n",
       "2021-12-31  969.014604"
      ]
     },
     "execution_count": 18,
     "metadata": {},
     "output_type": "execute_result"
    }
   ],
   "source": [
    "### Add time labels for the forecasted occasions.\n",
    "### The first forecasted occasion is the next time label after the last one of the time series.\n",
    "\n",
    "index = pd.date_range('2020-03-31', periods = 8, freq = 'Q')\n",
    "\n",
    "### Predicted values for the following eight quarters.\n",
    "\n",
    "forecasts = model.forecast(8)\n",
    "\n",
    "### Add forecasts to the dataframe:\n",
    "\n",
    "df_forecast = pd.DataFrame(data = forecasts, index = index, columns = ['Forecast'])\n",
    "\n",
    "df_forecast"
   ]
  },
  {
   "cell_type": "code",
   "execution_count": 19,
   "id": "1327388d",
   "metadata": {},
   "outputs": [
    {
     "data": {
      "text/plain": [
       "<AxesSubplot:xlabel='Quarter'>"
      ]
     },
     "execution_count": 19,
     "metadata": {},
     "output_type": "execute_result"
    },
    {
     "data": {
      "image/png": "[encoded data removed]",
      "text/plain": [
       "<Figure size 432x288 with 1 Axes>"
      ]
     },
     "metadata": {},
     "output_type": "display_data"
    }
   ],
   "source": [
    "### Next add a line chart of the realized observations.\n",
    "\n",
    "df['Demand'].plot()\n",
    "\n",
    "### Add forecasted values to the same coordinate system.\n",
    "\n",
    "df_forecast['Forecast'].plot()"
   ]
  },
  {
   "cell_type": "code",
   "execution_count": 20,
   "id": "9b737746",
   "metadata": {},
   "outputs": [
    {
     "data": {
      "text/html": [
       "<div>\n",
       "<style scoped>\n",
       "    .dataframe tbody tr th:only-of-type {\n",
       "        vertical-align: middle;\n",
       "    }\n",
       "\n",
       "    .dataframe tbody tr th {\n",
       "        vertical-align: top;\n",
       "    }\n",
       "\n",
       "    .dataframe thead th {\n",
       "        text-align: right;\n",
       "    }\n",
       "</style>\n",
       "<table border=\"1\" class=\"dataframe\">\n",
       "  <thead>\n",
       "    <tr style=\"text-align: right;\">\n",
       "      <th></th>\n",
       "      <th>Demand</th>\n",
       "      <th>Forecast</th>\n",
       "      <th>Residual</th>\n",
       "    </tr>\n",
       "  </thead>\n",
       "  <tbody>\n",
       "    <tr>\n",
       "      <th>2013-12-31</th>\n",
       "      <td>500.0</td>\n",
       "      <td>500.233428</td>\n",
       "      <td>-0.233428</td>\n",
       "    </tr>\n",
       "    <tr>\n",
       "      <th>2014-03-31</th>\n",
       "      <td>350.0</td>\n",
       "      <td>343.348626</td>\n",
       "      <td>6.651374</td>\n",
       "    </tr>\n",
       "    <tr>\n",
       "      <th>2014-06-30</th>\n",
       "      <td>250.0</td>\n",
       "      <td>264.968947</td>\n",
       "      <td>-14.968947</td>\n",
       "    </tr>\n",
       "    <tr>\n",
       "      <th>2014-09-30</th>\n",
       "      <td>400.0</td>\n",
       "      <td>447.008075</td>\n",
       "      <td>-47.008075</td>\n",
       "    </tr>\n",
       "    <tr>\n",
       "      <th>2014-12-31</th>\n",
       "      <td>450.0</td>\n",
       "      <td>497.144440</td>\n",
       "      <td>-47.144440</td>\n",
       "    </tr>\n",
       "    <tr>\n",
       "      <th>2015-03-31</th>\n",
       "      <td>350.0</td>\n",
       "      <td>314.179496</td>\n",
       "      <td>35.820504</td>\n",
       "    </tr>\n",
       "    <tr>\n",
       "      <th>2015-06-30</th>\n",
       "      <td>200.0</td>\n",
       "      <td>262.120076</td>\n",
       "      <td>-62.120076</td>\n",
       "    </tr>\n",
       "    <tr>\n",
       "      <th>2015-09-30</th>\n",
       "      <td>300.0</td>\n",
       "      <td>371.652191</td>\n",
       "      <td>-71.652191</td>\n",
       "    </tr>\n",
       "    <tr>\n",
       "      <th>2015-12-31</th>\n",
       "      <td>350.0</td>\n",
       "      <td>382.469106</td>\n",
       "      <td>-32.469106</td>\n",
       "    </tr>\n",
       "    <tr>\n",
       "      <th>2016-03-31</th>\n",
       "      <td>200.0</td>\n",
       "      <td>246.305387</td>\n",
       "      <td>-46.305387</td>\n",
       "    </tr>\n",
       "    <tr>\n",
       "      <th>2016-06-30</th>\n",
       "      <td>150.0</td>\n",
       "      <td>159.574351</td>\n",
       "      <td>-9.574351</td>\n",
       "    </tr>\n",
       "    <tr>\n",
       "      <th>2016-09-30</th>\n",
       "      <td>400.0</td>\n",
       "      <td>273.614465</td>\n",
       "      <td>126.385535</td>\n",
       "    </tr>\n",
       "    <tr>\n",
       "      <th>2016-12-31</th>\n",
       "      <td>550.0</td>\n",
       "      <td>469.954861</td>\n",
       "      <td>80.045139</td>\n",
       "    </tr>\n",
       "    <tr>\n",
       "      <th>2017-03-31</th>\n",
       "      <td>350.0</td>\n",
       "      <td>369.544478</td>\n",
       "      <td>-19.544478</td>\n",
       "    </tr>\n",
       "    <tr>\n",
       "      <th>2017-06-30</th>\n",
       "      <td>250.0</td>\n",
       "      <td>267.495983</td>\n",
       "      <td>-17.495983</td>\n",
       "    </tr>\n",
       "    <tr>\n",
       "      <th>2017-09-30</th>\n",
       "      <td>550.0</td>\n",
       "      <td>447.553992</td>\n",
       "      <td>102.446008</td>\n",
       "    </tr>\n",
       "    <tr>\n",
       "      <th>2017-12-31</th>\n",
       "      <td>550.0</td>\n",
       "      <td>651.466581</td>\n",
       "      <td>-101.466581</td>\n",
       "    </tr>\n",
       "    <tr>\n",
       "      <th>2018-03-31</th>\n",
       "      <td>400.0</td>\n",
       "      <td>385.503447</td>\n",
       "      <td>14.496553</td>\n",
       "    </tr>\n",
       "    <tr>\n",
       "      <th>2018-06-30</th>\n",
       "      <td>350.0</td>\n",
       "      <td>301.018045</td>\n",
       "      <td>48.981955</td>\n",
       "    </tr>\n",
       "    <tr>\n",
       "      <th>2018-09-30</th>\n",
       "      <td>600.0</td>\n",
       "      <td>604.567048</td>\n",
       "      <td>-4.567048</td>\n",
       "    </tr>\n",
       "    <tr>\n",
       "      <th>2018-12-31</th>\n",
       "      <td>750.0</td>\n",
       "      <td>727.465971</td>\n",
       "      <td>22.534029</td>\n",
       "    </tr>\n",
       "    <tr>\n",
       "      <th>2019-03-31</th>\n",
       "      <td>500.0</td>\n",
       "      <td>507.735170</td>\n",
       "      <td>-7.735170</td>\n",
       "    </tr>\n",
       "    <tr>\n",
       "      <th>2019-06-30</th>\n",
       "      <td>400.0</td>\n",
       "      <td>376.867471</td>\n",
       "      <td>23.132529</td>\n",
       "    </tr>\n",
       "    <tr>\n",
       "      <th>2019-09-30</th>\n",
       "      <td>650.0</td>\n",
       "      <td>696.505144</td>\n",
       "      <td>-46.505144</td>\n",
       "    </tr>\n",
       "    <tr>\n",
       "      <th>2019-12-31</th>\n",
       "      <td>850.0</td>\n",
       "      <td>793.281338</td>\n",
       "      <td>56.718662</td>\n",
       "    </tr>\n",
       "    <tr>\n",
       "      <th>2020-03-31</th>\n",
       "      <td>NaN</td>\n",
       "      <td>571.291514</td>\n",
       "      <td>NaN</td>\n",
       "    </tr>\n",
       "    <tr>\n",
       "      <th>2020-06-30</th>\n",
       "      <td>NaN</td>\n",
       "      <td>428.642765</td>\n",
       "      <td>NaN</td>\n",
       "    </tr>\n",
       "    <tr>\n",
       "      <th>2020-09-30</th>\n",
       "      <td>NaN</td>\n",
       "      <td>751.059797</td>\n",
       "      <td>NaN</td>\n",
       "    </tr>\n",
       "    <tr>\n",
       "      <th>2020-12-31</th>\n",
       "      <td>NaN</td>\n",
       "      <td>905.759037</td>\n",
       "      <td>NaN</td>\n",
       "    </tr>\n",
       "    <tr>\n",
       "      <th>2021-03-31</th>\n",
       "      <td>NaN</td>\n",
       "      <td>613.394087</td>\n",
       "      <td>NaN</td>\n",
       "    </tr>\n",
       "    <tr>\n",
       "      <th>2021-06-30</th>\n",
       "      <td>NaN</td>\n",
       "      <td>459.661037</td>\n",
       "      <td>NaN</td>\n",
       "    </tr>\n",
       "    <tr>\n",
       "      <th>2021-09-30</th>\n",
       "      <td>NaN</td>\n",
       "      <td>804.443664</td>\n",
       "      <td>NaN</td>\n",
       "    </tr>\n",
       "    <tr>\n",
       "      <th>2021-12-31</th>\n",
       "      <td>NaN</td>\n",
       "      <td>969.014604</td>\n",
       "      <td>NaN</td>\n",
       "    </tr>\n",
       "  </tbody>\n",
       "</table>\n",
       "</div>"
      ],
      "text/plain": [
       "            Demand    Forecast    Residual\n",
       "2013-12-31   500.0  500.233428   -0.233428\n",
       "2014-03-31   350.0  343.348626    6.651374\n",
       "2014-06-30   250.0  264.968947  -14.968947\n",
       "2014-09-30   400.0  447.008075  -47.008075\n",
       "2014-12-31   450.0  497.144440  -47.144440\n",
       "2015-03-31   350.0  314.179496   35.820504\n",
       "2015-06-30   200.0  262.120076  -62.120076\n",
       "2015-09-30   300.0  371.652191  -71.652191\n",
       "2015-12-31   350.0  382.469106  -32.469106\n",
       "2016-03-31   200.0  246.305387  -46.305387\n",
       "2016-06-30   150.0  159.574351   -9.574351\n",
       "2016-09-30   400.0  273.614465  126.385535\n",
       "2016-12-31   550.0  469.954861   80.045139\n",
       "2017-03-31   350.0  369.544478  -19.544478\n",
       "2017-06-30   250.0  267.495983  -17.495983\n",
       "2017-09-30   550.0  447.553992  102.446008\n",
       "2017-12-31   550.0  651.466581 -101.466581\n",
       "2018-03-31   400.0  385.503447   14.496553\n",
       "2018-06-30   350.0  301.018045   48.981955\n",
       "2018-09-30   600.0  604.567048   -4.567048\n",
       "2018-12-31   750.0  727.465971   22.534029\n",
       "2019-03-31   500.0  507.735170   -7.735170\n",
       "2019-06-30   400.0  376.867471   23.132529\n",
       "2019-09-30   650.0  696.505144  -46.505144\n",
       "2019-12-31   850.0  793.281338   56.718662\n",
       "2020-03-31     NaN  571.291514         NaN\n",
       "2020-06-30     NaN  428.642765         NaN\n",
       "2020-09-30     NaN  751.059797         NaN\n",
       "2020-12-31     NaN  905.759037         NaN\n",
       "2021-03-31     NaN  613.394087         NaN\n",
       "2021-06-30     NaN  459.661037         NaN\n",
       "2021-09-30     NaN  804.443664         NaN\n",
       "2021-12-31     NaN  969.014604         NaN"
      ]
     },
     "execution_count": 20,
     "metadata": {},
     "output_type": "execute_result"
    }
   ],
   "source": [
    "### Here is a new dataframe with both original time series and calculated forecast.\n",
    "\n",
    "df1 = pd.concat([df, df_forecast])\n",
    "\n",
    "df1"
   ]
  },
  {
   "cell_type": "markdown",
   "id": "f978633e",
   "metadata": {},
   "source": [
    "Source and origin of inspiration:<br /> \n",
    "Aki Taanila: Data-analytiikka Pythonilla: <a href=\"https://tilastoapu.wordpress.com/python/\">https://tilastoapu.wordpress.com/python/</a>"
   ]
  }
 ],
 "metadata": {
  "kernelspec": {
   "display_name": "Python 3",
   "language": "python",
   "name": "python3"
  },
  "language_info": {
   "codemirror_mode": {
    "name": "ipython",
    "version": 3
   },
   "file_extension": ".py",
   "mimetype": "text/x-python",
   "name": "python",
   "nbconvert_exporter": "python",
   "pygments_lexer": "ipython3",
   "version": "3.7.11"
  }
 },
 "nbformat": 4,
 "nbformat_minor": 5
}
